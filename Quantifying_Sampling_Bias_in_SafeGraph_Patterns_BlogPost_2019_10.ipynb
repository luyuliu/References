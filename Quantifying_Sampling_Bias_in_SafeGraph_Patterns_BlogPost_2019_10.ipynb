{
  "nbformat": 4,
  "nbformat_minor": 0,
  "metadata": {
    "colab": {
      "name": "Quantifying Sampling Bias in SafeGraph Patterns-BlogPost-2019-10.ipynb",
      "provenance": [],
      "collapsed_sections": [],
      "toc_visible": true,
      "include_colab_link": true
    },
    "kernelspec": {
      "name": "python3",
      "display_name": "Python 3"
    },
    "accelerator": "GPU"
  },
  "cells": [
    {
      "cell_type": "markdown",
      "metadata": {
        "id": "view-in-github",
        "colab_type": "text"
      },
      "source": [
        "<a href=\"https://colab.research.google.com/github/luyuliu/References/blob/main/Quantifying_Sampling_Bias_in_SafeGraph_Patterns_BlogPost_2019_10.ipynb\" target=\"_parent\"><img src=\"https://colab.research.google.com/assets/colab-badge.svg\" alt=\"Open In Colab\"/></a>"
      ]
    },
    {
      "cell_type": "markdown",
      "metadata": {
        "id": "mjUR2XYBtSO3"
      },
      "source": [
        "![alt text](https://global-uploads.webflow.com/5baafc2653bd67278f206724/5be267a03f7813daf821b31e_safegraph-logo-hidpi%403x-p-500.png)\n"
      ]
    },
    {
      "cell_type": "markdown",
      "metadata": {
        "id": "xsNNli6GTN6s"
      },
      "source": [
        "# \"What about bias in your dataset?\" \n",
        "\n",
        "## Quantifying Sampling Bias in SafeGraph Patterns\n",
        "\n",
        "--------------\n",
        "**[Ryan Fox Squire](https://www.linkedin.com/in/ryanfoxsquire/) | Data Scientist, [SafeGraph](https://safegraph.com/?utm_source=content&utm_medium=referral&utm_campaign=colabnotebook&utm_content=panel_bias)**\n",
        "\n",
        "\n",
        "Oct 2019\n",
        "\n",
        "--------------\n",
        "*Share this notebook: [Shareable Link](https://colab.research.google.com/drive/1u15afRytJMsizySFqA2EPlXSh3KTmNTQ#offline=true&sandboxMode=true\n",
        ")*\n"
      ]
    },
    {
      "cell_type": "markdown",
      "metadata": {
        "id": "oBADlZgHTsWg"
      },
      "source": [
        "## Introduction: \"What about bias in your dataset?\"\n",
        "\n",
        "SafeGraph Patterns measures foot-traffic patterns to 3.6MM commercial points-of-interest from over 45 MM mobile devices in the United States and provides a monumental window into American commerce. SafeGraph data users look through this window to ask detailed questions about consumer behavior. \n",
        "<br/><br/>\n",
        "\n",
        "![alt text](https://user-images.githubusercontent.com/6432906/67054597-f33e9a80-f0f9-11e9-81e2-777d78ef36d9.png)\n",
        "\n",
        "###### Image Credit: [123RF Stock Photo ](https://www.123rf.com/profile_elenabsl)\n",
        "<br/><br/>\n",
        "\n",
        "A common question we hear from SafeGraph Patterns customers is “What about bias in your dataset?”. \"Does your panel really represent the true American public?\". \"How do we know that your panel isn't oversampling wealthier people?\".  This is the kind of sophisticated data skepticism we ***love*** to hear.  A key part of [SafeGraph’s vision](https://blog.safegraph.com/safegraph-vision-and-values-circa-2017-d188d4185df2/?utm_source=content&utm_medium=referral&utm_campaign=colabnotebook&utm_content=panel_bias) is to *“Seek the Truth About the World...Of course, data can never be 100% true, but we should strive to make it 100% true.”* \n",
        "\n",
        "And although SafeGraph Patterns aggregates data from ~ 10% of devices in the United States (a very impressive sample, if we don't say so ourselves!) this sample is not a perfect representative subset of the population. Like all samples, the SafeGraph dataset has [sampling error](https://en.wikipedia.org/wiki/Sampling_error). \n",
        "<br/><br/>\n",
        "\n",
        "### This is a technical blog post designed for data scientists and analysts to answer the following questions:\n",
        "* What is Sampling Bias and why is it a problem?\n",
        "* How biased is the SafeGraph Patterns dataset? How do we quantify sampling bias?\n",
        "\n",
        "We also include a short preview of a future post:\n",
        "* How do we correct the sampling bias to answer questions about consumer behavior? (e.g., What is a brand's true customer demographic? Or how far do people travel to visit my stores?)\n",
        "\n",
        "\n"
      ]
    },
    {
      "cell_type": "markdown",
      "metadata": {
        "id": "YDKLdlIk79-m"
      },
      "source": [
        "## What is Sampling Bias?\n",
        "\n",
        "\n",
        "\n",
        "[Sampling error](https://en.wikipedia.org/wiki/Sampling_error) is the difference between a sample and the population. Here, the “sample” is the panel of devices aggregated into SafeGraph Patterns and the “population” is the US Population. There are many possible causes of sampling error, but usually the most worrisome is **sampling bias**. Sampling bias is problematic because, unlike other sources of errors which diminish as your sample size increases, sampling bias is a systematic error, not helped by increasing sample size.\n",
        "<br/><br/>\n",
        "\n",
        "[Sampling bias](https://en.wikipedia.org/wiki/Sampling_bias) goes by multiple names (e.g., selection bias, ascertainment bias...these terms have nuanced technical differences, but are generally used synonymously). **Sampling bias is sampling error that arises from the collection of data from sub-groups of the population disproportionately.**  The intuition is simple: you want to sample from sub-groups of the population proportional to their presence in the population. If your population is 80% women and 20% men, then a true random sample should also approximately be 80% women and 20% men. If your sample is actually 50% men and 50% women, then your sample is biased in favor of men. \n",
        "\n",
        "\n",
        "\n",
        "\n"
      ]
    },
    {
      "cell_type": "markdown",
      "metadata": {
        "id": "MXRIRdBE-Puu"
      },
      "source": [
        "\n",
        "## Why is Sampling Bias (sometimes) a Huge Problem?\n",
        "\n",
        "Sampling bias can be insidious and is one of the most common types of mistakes in statistical analysis of survey or panel data. \n",
        "<br/><br/>\n",
        "\n",
        "**Example Scenario:** \n",
        "\n",
        " <img src=\"data:image/png;base64,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\" alt=\"Email Survey\" ALIGN=\"right\">\n",
        "\n",
        "> You manage a national retail business, and you email a survey to all your customers. When you analyze the results, you notice that most of the respondents live in California. In reality, most of your stores are in the Midwest. For whatever reason, your survey has significant sampling bias in favor of California. Customers in California may be different from your customers in the midwest in important ways (e.g. demographics, income, retail alternatives, product preferences, etc.). This is a problem. If you applied the results of your survey to your Midwest locations, then you would have a skewed view which could lead to bad (and expensive) business decisions (like stocking the wrong product mix or launching the wrong marketing campaign or buying the wrong real estate).\n",
        "\n",
        "\n",
        "\n",
        "\n",
        "How do you know whether sampling bias is a problem in your study? In general, if an independent variable (e.g. a consumer's home state) shows a significant correlation with your outcome variable (e.g. product preferences), then the distribution of this variable in your sample should be similar to the distribution of this variable in the whole population. If it isn’t, then you have a problematic sampling bias.\n",
        "\n",
        "\n",
        "A [simple random sample](https://en.wikipedia.org/wiki/Simple_random_sample) generally solves sampling bias (and is why random assignment to groups is a critical feature of AB tests). But often in the real world (like the email survey example above) random sampling during data collection isn't possible. You have to work with the data you get, and sometimes that data has sampling bias. \n"
      ]
    },
    {
      "cell_type": "markdown",
      "metadata": {
        "id": "pvPYDci4Dnf-"
      },
      "source": [
        "# How to Quantify Samping Bias in SafeGraph Patterns\n",
        "\n",
        "We want to measure the (sampling) bias in the SafeGraph Patterns dataset so that we can answer questions like \"How many people visited this store?\" and \"Who are the customers of my competitor?\" without getting a biased or incomplete picture. \n",
        "\n",
        "\n",
        "\n"
      ]
    },
    {
      "cell_type": "markdown",
      "metadata": {
        "id": "2PgWXrESeVvE"
      },
      "source": [
        "\n",
        "## What is SafeGraph Patterns?\n",
        "SafeGraph Patterns is a dataset about commercial brick-and-mortar points-of-interest (POI) and  includes anonymized counts of how many people visit these POI each month. The counts of visitors are derived from a panel of anonymized mobile device data (see **What is the Panel Sample?** below). These counts are broken down by different dimensions, including by the **home census block group of the visitor**. For example, the dataset may report that 85 total devices visited a specific POI. It also reports that 50 of those visitors live in census block group X, 25 live in census block Y, and 10 live in census block group Z. \n",
        "\n",
        "\n",
        "\n",
        "The aggregated form of SafeGraph Patterns helps to ensure the protection of individuals' privacy, while also providing actionable data for statistical analysis and data science. For all the details on SafeGraph Patterns, see the [SafeGraph Patterns docs](https://docs.safegraph.com/docs/places-schema#section-patterns/?utm_source=content&utm_medium=referral&utm_campaign=colabnotebook&utm_content=panel_bias). \n",
        "\n"
      ]
    },
    {
      "cell_type": "markdown",
      "metadata": {
        "id": "WUWFYLLXowUJ"
      },
      "source": [
        "### What is the Panel Sample?\n",
        "\n",
        "But what is the sample from which SafeGraph Patterns is aggregated? SafeGraph Patterns is aggregated from a [panel](https://en.wikipedia.org/wiki/Panel_data) (sample of population that is measured longitudinally) of ~40MM mobile devices (e.g., smart phones) in the USA. \n",
        "\n",
        "Protecting individual consumer privacy is at the core of the SafeGraph mission:  \n",
        "\n",
        "\n",
        "\n",
        "> \"SafeGraph’s mission is to make the world’s data open for innovation while protecting individuals privacy.\" - [SafeGraph Vision and Values](https://blog.safegraph.com/safegraph-vision-and-values-circa-2017-d188d4185df2/?utm_source=content&utm_medium=referral&utm_campaign=colabnotebook&utm_content=panel_bias)\n",
        "\n",
        "The devices in the panel are fully anonymized; **no device-level demographic data exists for devices in the panel**. However, for every device in the panel, SafeGraph *estimates* the home census block group (CBG) of that device, based on the most common location during night time hours. Importantly, none of the anonymized device-specific data is available to us as customers of SafeGraph data; SafeGraph Patterns is an aggregated view. SafeGraph provides an aggregated summary of the panel, [Home Location Distributions by State/Census Block Group](https://docs.safegraph.com/docs/places-schema#section-home-location-distributions-by-state-census-block-group/?utm_source=content&utm_medium=referral&utm_campaign=colabnotebook&utm_content=panel_bias), as part of the Panel Overview Data. "
      ]
    },
    {
      "cell_type": "markdown",
      "metadata": {
        "id": "OakYTjSBom-z"
      },
      "source": [
        "\n",
        "## We can quantify Sampling Bias by comparing  the Panel Sample to the US Census Population\n",
        "\n",
        "Since the US Census publishes population and demographic data for every census block group (CBG), we can  use the US Census data as a groundtruth against which to benchmark sampling bias in the panel. \n"
      ]
    },
    {
      "cell_type": "markdown",
      "metadata": {
        "id": "5PHoLRDdXk2H"
      },
      "source": [
        "\n",
        "We will explore sampling bias on several dimensions: \n",
        "\n",
        "* Geographic\n",
        "  * State \n",
        "  * County\n",
        "  * Census Block Group\n",
        "  \n",
        "* Demographic (inferred from census block group)\n",
        "  * Race\n",
        "  * Educational Attainment\n",
        "  * Household Income\n",
        " \n",
        "<br/><br/>\n",
        "\n",
        "To start, let's load up the datasets. \n",
        "\n",
        "\n"
      ]
    },
    {
      "cell_type": "markdown",
      "metadata": {
        "id": "t86CDrDHfi7a"
      },
      "source": [
        "## Notebook and Data Setup\n",
        "\n",
        "**Quick Start -- How to use this notebook**\n",
        "* This is an interactive [Google CoLab notebook](https://colab.research.google.com/notebooks/welcome.ipynb). \n",
        "* If you want, you can simply read through and see my code and my results below. Enjoy!\n",
        "* Moreover, you are viewing an ephemeral copy of this notebook **that you can edit and re-run yourself**. You are highly encouraged to interact with the code and try things--only you can see your ephemeral copy (try double-clicking into this cell right now!)\n",
        "  * If you want to save your changes, then you save a copy to your own Google Drive.\n",
        "* As-is, this notebook reads data from a public Google Drive owned by SafeGraph.\n",
        "  * For this to work, Google will prompt you to login, and confirm that you want to run a notebook written by SafeGraph (you should click \"Run Anyway\"), and authenticate your user. \n",
        "  * Be assured, this notebook does not read any data from your personal drive and your data is not shared with SafeGraph. That's just how Google CoLab reads from Google Drive. \n",
        "\n",
        "Pro-Tip for Power Users:\n",
        "* Alternatively, you can upload your own copy of these datasets into *your* Google Drive and [mount your Google drive to this notebook (see \"Bonus Method\")](hhttps://towardsdatascience.com/3-ways-to-load-csv-files-into-colab-7c14fcbdcb92). This is how I worked with the data during the development of the notebook. It slightly changes how you read the data, so I have left those commands inline below, but commented out with the tag `#ForMountedDrive` in case you prefer this option.\n",
        "  * All of the datasets used in this notebook can be obtained for free from [SafeGraph.com](https://shop.safegraph.com/?utm_source=content&utm_medium=referral&utm_campaign=colabnotebook&utm_content=panel_bias) with the coupon code at the bottom of the notebook.\n",
        "\n",
        "\n",
        "\n",
        "---\n",
        "\n",
        "If you want to edit the code interactively, make sure you can run the cell directly below. Otherwise, just read on!"
      ]
    },
    {
      "cell_type": "code",
      "metadata": {
        "id": "OqkjFI5pYwHm",
        "outputId": "a1179120-cfcc-4b20-a8bd-322fa624bf57",
        "colab": {
          "base_uri": "https://localhost:8080/",
          "height": 52
        }
      },
      "source": [
        "your_name = \"EDIT YOUR NAME\" # << You can edit this\n",
        "\n",
        "################################\n",
        "\n",
        "# These libraries are required to read directly from SafeGraph's public GoogleDrive\n",
        "# This is not necessary if you mount your own Drive directly. \n",
        "\n",
        "from pydrive.auth import GoogleAuth\n",
        "from pydrive.drive import GoogleDrive\n",
        "from google.colab import auth\n",
        "from oauth2client.client import GoogleCredentials\n",
        "\n",
        "# Authenticate and create the PyDrive client.\n",
        "auth.authenticate_user()\n",
        "gauth = GoogleAuth()\n",
        "gauth.credentials = GoogleCredentials.get_application_default()\n",
        "drive = GoogleDrive(gauth)\n",
        "\n",
        "################################\n",
        "\n",
        "print(\"If your name is {0}, then you've successfuly run this cell. \\nYou are authenticated and can edit and re-run anything in the notebook. Enjoy!\".format(your_name))"
      ],
      "execution_count": null,
      "outputs": [
        {
          "output_type": "stream",
          "text": [
            "If your name is EDIT YOUR NAME, then you've successfuly run this cell. \n",
            "You are authenticated and can edit and re-run anything in the notebook. Enjoy!\n"
          ],
          "name": "stdout"
        }
      ]
    },
    {
      "cell_type": "code",
      "metadata": {
        "id": "WC76yxp30Mxl"
      },
      "source": [
        "# #ForMountedDrive -- mount your google drive with the below command\n",
        "# from google.colab import drive\n",
        "# drive.mount('/content/drive')"
      ],
      "execution_count": null,
      "outputs": []
    },
    {
      "cell_type": "markdown",
      "metadata": {
        "id": "lNGAVwMbm_lo"
      },
      "source": [
        "**Load libraries:**"
      ]
    },
    {
      "cell_type": "code",
      "metadata": {
        "id": "p2PqcEYpVnXp",
        "outputId": "793d4712-74b6-44b0-f454-8c941b3f5384",
        "colab": {
          "base_uri": "https://localhost:8080/",
          "height": 52
        }
      },
      "source": [
        "%matplotlib inline\n",
        "\n",
        "import matplotlib\n",
        "import numpy as np\n",
        "import matplotlib.pyplot as plt\n",
        "import pandas as pd\n",
        "import os\n",
        "\n",
        "\n",
        "#~~~~~~ Display Settings\n",
        "\n",
        "plt.rcParams['figure.figsize'] = [8, 8]\n",
        "pd.set_option('display.max_rows', 5000)\n",
        "pd.set_option('display.max_columns', 500)\n",
        "pd.set_option('display.width', 10000)\n",
        "\n",
        "#~~~~~~\n",
        "\n",
        "import platform\n",
        "print(\"This notebook is running python version: {0}\".format(platform.python_version()))\n",
        "print(\"This notebook is running pandas version: {0}\".format(pd.__version__))\n",
        "\n",
        "# This is what the original author is running:\n",
        "# This notebook is running python version: 3.6.8\n",
        "# This notebook is running pandas version: 0.24.2\n"
      ],
      "execution_count": null,
      "outputs": [
        {
          "output_type": "stream",
          "text": [
            "This notebook is running python version: 3.6.9\n",
            "This notebook is running pandas version: 0.25.3\n"
          ],
          "name": "stdout"
        }
      ]
    },
    {
      "cell_type": "code",
      "metadata": {
        "id": "JNr78OyMHpn_"
      },
      "source": [
        "################################\n",
        "\n",
        "# These functions are required to read directly from SafeGraph's Public Drive\n",
        "# These are not necessary if you've directly mounted your own google drive\n",
        "\n",
        "def pd_read_csv_drive(id, drive=drive, dtype=None):\n",
        "  downloaded = drive.CreateFile({'id':id}) \n",
        "  downloaded.GetContentFile('Filename.csv')  \n",
        "  return(pd.read_csv('Filename.csv',dtype=dtype))\n",
        "\n",
        "\n",
        "# Note: OpenCensusData public GDrive folder: https://drive.google.com/open?id=1btSS6zo7_wJCCXAigkbhnaoeU-Voa9pG\n",
        "\n",
        "drive_ids = {'cbg_b19.csv' : '1d9GscpWbrnP2xNLKKlgd6xLcFTzJydY4',\n",
        "              'cbg_b01.csv' : '1QqttoDRoKpZM2TyyRwJ8B9c5bYZrHysB',\n",
        "              'cbg_b02.csv' : '1Zqqf3iLDkDWPl2theLlUm_cAbvznj-Kx',\n",
        "              'cbg_b15.csv' : '1xeSZShcX3egZFsalGOFD6Ze2jTof6ri-',\n",
        "              'cbg_field_descriptions.csv' : '1a7_7WxY6eaUIObkVwfknl9C7nPltYxPd',\n",
        "              'cbg_fips_codes.csv' : '1dB_HeAw11TmsZ8MATMedC9j2csTRAiVm',\n",
        "             'home_panel_summary.csv': '1aiwhO6Pw1ZfUOoqUf6mS70s9tJgsAVp5'\n",
        "}\n",
        "\n",
        "################################"
      ],
      "execution_count": null,
      "outputs": []
    },
    {
      "cell_type": "markdown",
      "metadata": {
        "id": "VHjCUWtF6SaG"
      },
      "source": [
        "### Load Open Census Data\n",
        "\n",
        "Census data can be be difficult to navigate, so SafeGraph [packaged all of it in a convenient single download called Open Census Data](https://blog.safegraph.com/download-open-census-data-visualize-neighborhood-insights-9348145bb5f1/?utm_source=content&utm_medium=referral&utm_campaign=colabnotebook&utm_content=panel_bias). \n",
        "\n",
        "This notebook is pulling Open Census Data from a public Google Drive created by SafeGraph (See Notebook and Data Setup, above).  \n",
        "\n",
        "If you want your own copy of Open Census Data, you can [download Open Census Data here](https://www.safegraph.com/open-census-data/?utm_source=content&utm_medium=referral&utm_campaign=colabnotebook&utm_content=panel_bias). See the [SafeGraph Open Census Data docs](https://docs.safegraph.com/docs/open-census-data/?utm_source=content&utm_medium=referral&utm_campaign=colabnotebook&utm_content=panel_bias) for documentation on what is included and how the files are organized.\n",
        "\n"
      ]
    },
    {
      "cell_type": "code",
      "metadata": {
        "id": "faR7Yxi31FyR"
      },
      "source": [
        "# #ForMountedDrive --  After Mounting Drive we can access files in your google drive\n",
        "# sg_ocd_dir = \"/content/drive/My Drive/publicly_shared/openCensusData/\" # copy/paste path for SafeGraph Open Census Data\n",
        "# print(\"expected output is ['metadata', 'geometry', 'data']\")\n",
        "# print(os.listdir(sg_ocd_dir))"
      ],
      "execution_count": null,
      "outputs": []
    },
    {
      "cell_type": "markdown",
      "metadata": {
        "id": "aDwGk1sS8dgQ"
      },
      "source": [
        "The total population of each `census_block_group` is stored in the file `cbg_b01.csv`"
      ]
    },
    {
      "cell_type": "code",
      "metadata": {
        "id": "id9Y2g6A3QQO",
        "outputId": "1e01dd4f-da7f-4013-9f74-191af70b0eaa",
        "colab": {
          "base_uri": "https://localhost:8080/",
          "height": 197
        }
      },
      "source": [
        "# cbg_b01 = pd.read_csv(sg_ocd_dir + \"data/cbg_b01.csv\",dtype = {'census_block_group': str}) #ForMountedDrive\n",
        "cbg_b01 = pd_read_csv_drive(drive_ids['cbg_b01.csv'],dtype = {'census_block_group': str})\n",
        "columns = ['census_block_group', 'B01001e1']\n",
        "cbg_b01 = cbg_b01[columns]\n",
        "cbg_b01.head()"
      ],
      "execution_count": null,
      "outputs": [
        {
          "output_type": "execute_result",
          "data": {
            "text/html": [
              "<div>\n",
              "<style scoped>\n",
              "    .dataframe tbody tr th:only-of-type {\n",
              "        vertical-align: middle;\n",
              "    }\n",
              "\n",
              "    .dataframe tbody tr th {\n",
              "        vertical-align: top;\n",
              "    }\n",
              "\n",
              "    .dataframe thead th {\n",
              "        text-align: right;\n",
              "    }\n",
              "</style>\n",
              "<table border=\"1\" class=\"dataframe\">\n",
              "  <thead>\n",
              "    <tr style=\"text-align: right;\">\n",
              "      <th></th>\n",
              "      <th>census_block_group</th>\n",
              "      <th>B01001e1</th>\n",
              "    </tr>\n",
              "  </thead>\n",
              "  <tbody>\n",
              "    <tr>\n",
              "      <th>0</th>\n",
              "      <td>010010201001</td>\n",
              "      <td>745</td>\n",
              "    </tr>\n",
              "    <tr>\n",
              "      <th>1</th>\n",
              "      <td>010010201002</td>\n",
              "      <td>1265</td>\n",
              "    </tr>\n",
              "    <tr>\n",
              "      <th>2</th>\n",
              "      <td>010010202001</td>\n",
              "      <td>960</td>\n",
              "    </tr>\n",
              "    <tr>\n",
              "      <th>3</th>\n",
              "      <td>010010202002</td>\n",
              "      <td>1236</td>\n",
              "    </tr>\n",
              "    <tr>\n",
              "      <th>4</th>\n",
              "      <td>010010203001</td>\n",
              "      <td>2364</td>\n",
              "    </tr>\n",
              "  </tbody>\n",
              "</table>\n",
              "</div>"
            ],
            "text/plain": [
              "  census_block_group  B01001e1\n",
              "0       010010201001       745\n",
              "1       010010201002      1265\n",
              "2       010010202001       960\n",
              "3       010010202002      1236\n",
              "4       010010203001      2364"
            ]
          },
          "metadata": {
            "tags": []
          },
          "execution_count": 7
        }
      ]
    },
    {
      "cell_type": "code",
      "metadata": {
        "id": "WUDg_XLy3qY9",
        "outputId": "23f15b36-59ca-4c6b-cb66-bc3eee8dc643",
        "colab": {
          "base_uri": "https://localhost:8080/",
          "height": 70
        }
      },
      "source": [
        "# cbg_field_desc = pd.read_csv(sg_ocd_dir + \"metadata/cbg_field_descriptions.csv\") #ForMountedDrive\n",
        "cbg_field_desc = pd_read_csv_drive(drive_ids['cbg_field_descriptions.csv'])\n",
        "print('B01001e1')\n",
        "print(cbg_field_desc[cbg_field_desc.table_id == 'B01001e1'].field_full_name)\n",
        " "
      ],
      "execution_count": null,
      "outputs": [
        {
          "output_type": "stream",
          "text": [
            "B01001e1\n",
            "4    SEX BY AGE: Total: Total population -- (Estimate)\n",
            "Name: field_full_name, dtype: object\n"
          ],
          "name": "stdout"
        }
      ]
    },
    {
      "cell_type": "markdown",
      "metadata": {
        "id": "hoIIvgHv9Fif"
      },
      "source": [
        "So, `B01001e1` is the `table_id` code for the  `Total Population`. This dataset tells us the Total Population for each census block group. \n",
        "\n",
        "For the sake of clarity, we rename this column.\n"
      ]
    },
    {
      "cell_type": "code",
      "metadata": {
        "id": "1rBmxern3jGq",
        "outputId": "c908fb6b-bd85-4ef2-9c4d-286cf5c2547d",
        "colab": {
          "base_uri": "https://localhost:8080/",
          "height": 34
        }
      },
      "source": [
        "cbg_b01.rename({'B01001e1':'census_population'}, axis='columns', inplace=True)\n",
        "\n",
        "total_usa_pop = cbg_b01['census_population'].sum()\n",
        "print(\"Total USA population according to US Census: {0}\".format(total_usa_pop))"
      ],
      "execution_count": null,
      "outputs": [
        {
          "output_type": "stream",
          "text": [
            "Total USA population according to US Census: 322087547\n"
          ],
          "name": "stdout"
        }
      ]
    },
    {
      "cell_type": "markdown",
      "metadata": {
        "id": "IJW1dfsK_RZf"
      },
      "source": [
        "### Load SafeGraph Panel Summary\n"
      ]
    },
    {
      "cell_type": "code",
      "metadata": {
        "id": "TBqeRr3GTMza"
      },
      "source": [
        "# #ForMountedDrive - Upload your patterns data to Google drive and copy the path\n",
        "# patterns_path = \"/content/drive/My Drive/publicly_shared/Major-Brands-2019-Oct-CORE-PATTERNS\"\n",
        "# # Confirm correct structure\n",
        "# print(\"expected files: ['home_panel_summary.csv','core_poi-patterns.csv','brand_info.csv','visit_panel_summary.csv']\")\n",
        "# os.listdir(patterns_path)"
      ],
      "execution_count": null,
      "outputs": []
    },
    {
      "cell_type": "markdown",
      "metadata": {
        "id": "3yF9cR_KACSm"
      },
      "source": [
        "For reference, see [schema of home_panel_summary.csv ](https://docs.safegraph.com/docs/places-schema#section-home-location-distributions-by-state-census-block-group/?utm_source=content&utm_medium=referral&utm_campaign=colabnotebook&utm_content=panel_bias)\n",
        "\n",
        "This dataset tells us how many devices are residing in each CBG in the SafeGraph dataset."
      ]
    },
    {
      "cell_type": "code",
      "metadata": {
        "id": "8wsO2TG-ABbx",
        "outputId": "26599245-8e3f-4f20-9c3c-ea9517975553",
        "colab": {
          "base_uri": "https://localhost:8080/",
          "height": 197
        }
      },
      "source": [
        "# home_panel = pd.read_csv(patterns_path + '/home_panel_summary.csv', dtype = {'census_block_group': str}) #ForMountedDrive\n",
        "home_panel = pd_read_csv_drive(drive_ids['home_panel_summary.csv'], dtype = {'census_block_group': str})\n",
        "home_panel.head()"
      ],
      "execution_count": null,
      "outputs": [
        {
          "output_type": "execute_result",
          "data": {
            "text/html": [
              "<div>\n",
              "<style scoped>\n",
              "    .dataframe tbody tr th:only-of-type {\n",
              "        vertical-align: middle;\n",
              "    }\n",
              "\n",
              "    .dataframe tbody tr th {\n",
              "        vertical-align: top;\n",
              "    }\n",
              "\n",
              "    .dataframe thead th {\n",
              "        text-align: right;\n",
              "    }\n",
              "</style>\n",
              "<table border=\"1\" class=\"dataframe\">\n",
              "  <thead>\n",
              "    <tr style=\"text-align: right;\">\n",
              "      <th></th>\n",
              "      <th>year</th>\n",
              "      <th>month</th>\n",
              "      <th>state</th>\n",
              "      <th>census_block_group</th>\n",
              "      <th>number_devices_residing</th>\n",
              "    </tr>\n",
              "  </thead>\n",
              "  <tbody>\n",
              "    <tr>\n",
              "      <th>0</th>\n",
              "      <td>2019</td>\n",
              "      <td>9</td>\n",
              "      <td>ak</td>\n",
              "      <td>021580001001</td>\n",
              "      <td>31</td>\n",
              "    </tr>\n",
              "    <tr>\n",
              "      <th>1</th>\n",
              "      <td>2019</td>\n",
              "      <td>9</td>\n",
              "      <td>ak</td>\n",
              "      <td>020200023033</td>\n",
              "      <td>114</td>\n",
              "    </tr>\n",
              "    <tr>\n",
              "      <th>2</th>\n",
              "      <td>2019</td>\n",
              "      <td>9</td>\n",
              "      <td>ak</td>\n",
              "      <td>021050003001</td>\n",
              "      <td>105</td>\n",
              "    </tr>\n",
              "    <tr>\n",
              "      <th>3</th>\n",
              "      <td>2019</td>\n",
              "      <td>9</td>\n",
              "      <td>ak</td>\n",
              "      <td>021700006042</td>\n",
              "      <td>67</td>\n",
              "    </tr>\n",
              "    <tr>\n",
              "      <th>4</th>\n",
              "      <td>2019</td>\n",
              "      <td>9</td>\n",
              "      <td>ak</td>\n",
              "      <td>021880001003</td>\n",
              "      <td>8</td>\n",
              "    </tr>\n",
              "  </tbody>\n",
              "</table>\n",
              "</div>"
            ],
            "text/plain": [
              "   year  month state census_block_group  number_devices_residing\n",
              "0  2019      9    ak       021580001001                       31\n",
              "1  2019      9    ak       020200023033                      114\n",
              "2  2019      9    ak       021050003001                      105\n",
              "3  2019      9    ak       021700006042                       67\n",
              "4  2019      9    ak       021880001003                        8"
            ]
          },
          "metadata": {
            "tags": []
          },
          "execution_count": 11
        }
      ]
    },
    {
      "cell_type": "markdown",
      "metadata": {
        "id": "EEPQVGlfGtdH"
      },
      "source": [
        "### Join Census and Home Panel data to compare relative population distribution"
      ]
    },
    {
      "cell_type": "code",
      "metadata": {
        "id": "SzYBltM90M_d",
        "outputId": "87dd6306-73a5-412c-dc35-bdf518c288be",
        "colab": {
          "base_uri": "https://localhost:8080/",
          "height": 197
        }
      },
      "source": [
        "join_df = pd.merge(cbg_b01[['census_block_group', 'census_population']], home_panel[['census_block_group', 'number_devices_residing']], how = 'left', on = ['census_block_group'], suffixes=('_cen', '_sg'))\n",
        "join_df['state_fips'] = [fips[0:2] for fips in join_df.census_block_group]\n",
        "join_df['county_fips'] = [fips[2:5] for fips in join_df.census_block_group]\n",
        "\n",
        "# Also load in FIPS codes for county names\n",
        "# fips_codes = pd.read_csv(sg_ocd_dir + \"metadata/cbg_fips_codes.csv\", dtype = {'state_fips': str, 'county_fips':str}) #ForMountedDrive\n",
        "fips_codes = pd_read_csv_drive(drive_ids['cbg_fips_codes.csv'], dtype = {'state_fips': str, 'county_fips':str})\n",
        "county_codes = fips_codes[['state_fips','county_fips', 'state', 'county']].drop_duplicates()\n",
        "join_df = pd.merge(join_df,county_codes)\n",
        "join_df.head()"
      ],
      "execution_count": null,
      "outputs": [
        {
          "output_type": "execute_result",
          "data": {
            "text/html": [
              "<div>\n",
              "<style scoped>\n",
              "    .dataframe tbody tr th:only-of-type {\n",
              "        vertical-align: middle;\n",
              "    }\n",
              "\n",
              "    .dataframe tbody tr th {\n",
              "        vertical-align: top;\n",
              "    }\n",
              "\n",
              "    .dataframe thead th {\n",
              "        text-align: right;\n",
              "    }\n",
              "</style>\n",
              "<table border=\"1\" class=\"dataframe\">\n",
              "  <thead>\n",
              "    <tr style=\"text-align: right;\">\n",
              "      <th></th>\n",
              "      <th>census_block_group</th>\n",
              "      <th>census_population</th>\n",
              "      <th>number_devices_residing</th>\n",
              "      <th>state_fips</th>\n",
              "      <th>county_fips</th>\n",
              "      <th>state</th>\n",
              "      <th>county</th>\n",
              "    </tr>\n",
              "  </thead>\n",
              "  <tbody>\n",
              "    <tr>\n",
              "      <th>0</th>\n",
              "      <td>010010201001</td>\n",
              "      <td>745</td>\n",
              "      <td>325.0</td>\n",
              "      <td>01</td>\n",
              "      <td>001</td>\n",
              "      <td>AL</td>\n",
              "      <td>Autauga County</td>\n",
              "    </tr>\n",
              "    <tr>\n",
              "      <th>1</th>\n",
              "      <td>010010201002</td>\n",
              "      <td>1265</td>\n",
              "      <td>152.0</td>\n",
              "      <td>01</td>\n",
              "      <td>001</td>\n",
              "      <td>AL</td>\n",
              "      <td>Autauga County</td>\n",
              "    </tr>\n",
              "    <tr>\n",
              "      <th>2</th>\n",
              "      <td>010010202001</td>\n",
              "      <td>960</td>\n",
              "      <td>74.0</td>\n",
              "      <td>01</td>\n",
              "      <td>001</td>\n",
              "      <td>AL</td>\n",
              "      <td>Autauga County</td>\n",
              "    </tr>\n",
              "    <tr>\n",
              "      <th>3</th>\n",
              "      <td>010010202002</td>\n",
              "      <td>1236</td>\n",
              "      <td>115.0</td>\n",
              "      <td>01</td>\n",
              "      <td>001</td>\n",
              "      <td>AL</td>\n",
              "      <td>Autauga County</td>\n",
              "    </tr>\n",
              "    <tr>\n",
              "      <th>4</th>\n",
              "      <td>010010203001</td>\n",
              "      <td>2364</td>\n",
              "      <td>244.0</td>\n",
              "      <td>01</td>\n",
              "      <td>001</td>\n",
              "      <td>AL</td>\n",
              "      <td>Autauga County</td>\n",
              "    </tr>\n",
              "  </tbody>\n",
              "</table>\n",
              "</div>"
            ],
            "text/plain": [
              "  census_block_group  census_population  number_devices_residing state_fips county_fips state          county\n",
              "0       010010201001                745                    325.0         01         001    AL  Autauga County\n",
              "1       010010201002               1265                    152.0         01         001    AL  Autauga County\n",
              "2       010010202001                960                     74.0         01         001    AL  Autauga County\n",
              "3       010010202002               1236                    115.0         01         001    AL  Autauga County\n",
              "4       010010203001               2364                    244.0         01         001    AL  Autauga County"
            ]
          },
          "metadata": {
            "tags": []
          },
          "execution_count": 12
        }
      ]
    },
    {
      "cell_type": "markdown",
      "metadata": {
        "id": "zq5uJVTaHgqU"
      },
      "source": [
        "Check if we are missing any CBGs in the Home Panel dataset, and set the value to 0. "
      ]
    },
    {
      "cell_type": "code",
      "metadata": {
        "id": "pBAbiovm0NBc",
        "outputId": "4af34af4-ef87-4e9d-b257-41fc5d17e2c3",
        "colab": {
          "base_uri": "https://localhost:8080/",
          "height": 316
        }
      },
      "source": [
        "missing_cbgs = join_df[join_df.number_devices_residing.isnull()].sort_values('census_population', ascending = False)\n",
        "print(\"We are missing SG data for {0} CBGs containing {1} residents\".format(missing_cbgs.shape[0],missing_cbgs.census_population.sum()))\n",
        "join_df = join_df.fillna(0)\n",
        "print(\"Set number_devices_residing to 0 for missing CBGs\") # For these, we will set the value to 0, since the panel has 0 devices in these CBGs. \n",
        "join_df[(join_df.number_devices_residing == 0) & (join_df.census_population > 0)].head()"
      ],
      "execution_count": null,
      "outputs": [
        {
          "output_type": "stream",
          "text": [
            "We are missing SG data for 318 CBGs containing 27344 residents\n",
            "Set number_devices_residing to 0 for missing CBGs\n"
          ],
          "name": "stdout"
        },
        {
          "output_type": "execute_result",
          "data": {
            "text/html": [
              "<div>\n",
              "<style scoped>\n",
              "    .dataframe tbody tr th:only-of-type {\n",
              "        vertical-align: middle;\n",
              "    }\n",
              "\n",
              "    .dataframe tbody tr th {\n",
              "        vertical-align: top;\n",
              "    }\n",
              "\n",
              "    .dataframe thead th {\n",
              "        text-align: right;\n",
              "    }\n",
              "</style>\n",
              "<table border=\"1\" class=\"dataframe\">\n",
              "  <thead>\n",
              "    <tr style=\"text-align: right;\">\n",
              "      <th></th>\n",
              "      <th>census_block_group</th>\n",
              "      <th>census_population</th>\n",
              "      <th>number_devices_residing</th>\n",
              "      <th>state_fips</th>\n",
              "      <th>county_fips</th>\n",
              "      <th>state</th>\n",
              "      <th>county</th>\n",
              "    </tr>\n",
              "  </thead>\n",
              "  <tbody>\n",
              "    <tr>\n",
              "      <th>8148</th>\n",
              "      <td>040279800051</td>\n",
              "      <td>535</td>\n",
              "      <td>0.0</td>\n",
              "      <td>04</td>\n",
              "      <td>027</td>\n",
              "      <td>AZ</td>\n",
              "      <td>Yuma County</td>\n",
              "    </tr>\n",
              "    <tr>\n",
              "      <th>31683</th>\n",
              "      <td>060952528011</td>\n",
              "      <td>71</td>\n",
              "      <td>0.0</td>\n",
              "      <td>06</td>\n",
              "      <td>095</td>\n",
              "      <td>CA</td>\n",
              "      <td>Solano County</td>\n",
              "    </tr>\n",
              "    <tr>\n",
              "      <th>40070</th>\n",
              "      <td>100030169041</td>\n",
              "      <td>2763</td>\n",
              "      <td>0.0</td>\n",
              "      <td>10</td>\n",
              "      <td>003</td>\n",
              "      <td>DE</td>\n",
              "      <td>New Castle County</td>\n",
              "    </tr>\n",
              "    <tr>\n",
              "      <th>47914</th>\n",
              "      <td>120879801001</td>\n",
              "      <td>4</td>\n",
              "      <td>0.0</td>\n",
              "      <td>12</td>\n",
              "      <td>087</td>\n",
              "      <td>FL</td>\n",
              "      <td>Monroe County</td>\n",
              "    </tr>\n",
              "    <tr>\n",
              "      <th>50797</th>\n",
              "      <td>121059800001</td>\n",
              "      <td>32</td>\n",
              "      <td>0.0</td>\n",
              "      <td>12</td>\n",
              "      <td>105</td>\n",
              "      <td>FL</td>\n",
              "      <td>Polk County</td>\n",
              "    </tr>\n",
              "  </tbody>\n",
              "</table>\n",
              "</div>"
            ],
            "text/plain": [
              "      census_block_group  census_population  number_devices_residing state_fips county_fips state             county\n",
              "8148        040279800051                535                      0.0         04         027    AZ        Yuma County\n",
              "31683       060952528011                 71                      0.0         06         095    CA      Solano County\n",
              "40070       100030169041               2763                      0.0         10         003    DE  New Castle County\n",
              "47914       120879801001                  4                      0.0         12         087    FL      Monroe County\n",
              "50797       121059800001                 32                      0.0         12         105    FL        Polk County"
            ]
          },
          "metadata": {
            "tags": []
          },
          "execution_count": 13
        }
      ]
    },
    {
      "cell_type": "code",
      "metadata": {
        "id": "qUAHU3UBIj1S",
        "outputId": "428c7873-a8fe-4f36-8016-6172cea9bd85",
        "colab": {
          "base_uri": "https://localhost:8080/",
          "height": 70
        }
      },
      "source": [
        "total_population = join_df[['census_population','number_devices_residing']].sum(axis = 0)\n",
        "total_population"
      ],
      "execution_count": null,
      "outputs": [
        {
          "output_type": "execute_result",
          "data": {
            "text/plain": [
              "census_population          322315494.0\n",
              "number_devices_residing     46412523.0\n",
              "dtype: float64"
            ]
          },
          "metadata": {
            "tags": []
          },
          "execution_count": 14
        }
      ]
    },
    {
      "cell_type": "markdown",
      "metadata": {
        "id": "rtvE83DiceD-"
      },
      "source": [
        "## A formula to quantify sampling bias\n",
        "\n",
        "As shown above, overall there are 46,412,523 devices in this version of the SafeGraph home panel and 322,315,494 people in the US Census population.\\**\n",
        "\n",
        "If the SafeGraph home panel had no sampling bias, then we'd expect the proportion of any given sub-group in the panel sample to approximate the proportion of that sub-group in the whole population. \n",
        "\n",
        "As an example, let's consider the state of Pennsylvannia (PA). As we will see below, the panel has 1,807,221 `number_devices_residing` in the state of Pennsylvania. The census_population sum for PA is 12,790,174.\n",
        "<br/><br/>\n",
        "\n",
        "$ observed\\_proportion = 1807221 \\: / \\:46412523 \\approx  3.89\\% $\n",
        "<br/><br/>\n",
        "$ expected\\_proportion = 12790174 \\: / \\:322315494 \\approx  3.97\\% $\n",
        "<br/><br/>\n",
        "\n",
        "\n",
        "\n",
        "These proportions are pretty close, but let's define bias precisely:\n",
        "<br/><br/>\n",
        "\n",
        "$ Bias = observed\\_proportion \\: - \\: expected\\_proportion$\n",
        "<br/><br/>\n",
        "\n",
        "Since $(3.89\\%-3.97\\%) = -0.08\\%$, we say that the SafeGraph dataset is **under**-indexed (negatively biased) on PA by about 0.08%. In other words, given the overall sample size, the panel represents PA 0.08% less than expected from a perfect large-N random sample .\n",
        "\n",
        "<br/><br/>\n",
        "Another way to characterize the *overall* bias of the sample is by looking at the Pearson correlation coefficient ($r$) between  `number_devices_residing` and `census_population` across all groups. High $r$ means there is a strong linear relationship between the sample and the population and overall low sampling bias. \n",
        "<br/><br/>\n",
        "\n",
        "If the panel was a true large-N random sample of the `census_population` then we'd expect a near perfect correlation coefficient ($r =1$) with a regression coefficient (slope) of $ sample\\_total \\:/ \\: USA\\_population\\_total \\approx 0.144 $.\n",
        "\n",
        "<br/><br/>\n",
        "We now use this framework to examine bias in the panel on different geographic and demographic dimensions. \n",
        "\n",
        "<br/><br/>\n",
        "\\*\\* *Note: In actuality, we know that the panel sample includes 0 persons under the age of 13 years old, so it is not representing the full US population, but for now we will ignore this.*\n",
        "\n"
      ]
    },
    {
      "cell_type": "markdown",
      "metadata": {
        "id": "nUrAZqaTxzU8"
      },
      "source": [
        "Briefly, we define some functions given the above framework to aid in exploratory data analysis and visualization."
      ]
    },
    {
      "cell_type": "code",
      "metadata": {
        "id": "NPPbHRkeLmwN"
      },
      "source": [
        "# functions for exploratory data analysis and visualization of Sampling Bias\n",
        "\n",
        "\n",
        "def compute_bias(df, sample_var_col='number_devices_residing', pop_var_col='census_population'):\n",
        "  # compute bias for a dataframe of observed and expected values\n",
        "  # returns a pd.Series\n",
        "  observed_proportion = df[sample_var_col] / df[sample_var_col].sum()*100\n",
        "  expected_proportion = df[pop_var_col] / df[pop_var_col].sum()*100\n",
        "  bias = observed_proportion - expected_proportion\n",
        "  return(bias)\n",
        "  \n",
        "\n",
        "def make_center_line_coords(df,x,y):\n",
        "  # This creates two coords to define the hypothetical line in which x and y are perfectly correlatd\n",
        "  expected_slope = df[y].sum()/df[x].sum()\n",
        "  xcoord = np.array([df[x].min(), df[x].max()])\n",
        "  ycoord = expected_slope*xcoord\n",
        "  return((xcoord,ycoord))\n",
        "  \n",
        "def summarize_bias(df,bias_col):\n",
        "  sum_abs_bias = np.absolute(df[bias_col]).sum()\n",
        "  print(\"Sum Absolute Bias: {0:.2f}\".format(sum_abs_bias))\n",
        "  return(None)\n",
        "\n",
        "def plot_sg_vs_census(df, xvar, yvar,bias_col='bias',xlim_=None,ylim_=None,text_col=None, num_to_label=5,alpha=0.9,labelfontsize=14):\n",
        "  # `text_col` is the column used to annotate the points\n",
        "  # `num_to_label` sets the top num_to_label records sorted by yvar to be annotated\n",
        "  \n",
        "  plt.rcParams['figure.figsize'] = [7, 7]\n",
        "  \n",
        "  # Report Stats\n",
        "  pearson_r = df.corr().loc[xvar, yvar]\n",
        "  print(\"pearson r: {0:.3f}\".format(pearson_r))\n",
        "  summarize_bias(df,bias_col)\n",
        "  \n",
        "  # scatter plot\n",
        "  ax = df.plot.scatter(xvar, yvar, alpha = alpha, edgecolor = 'k', xlim = xlim_, ylim = ylim_)\n",
        "  # annotate \n",
        "  xadj = df[xvar].max()*0.02\n",
        "  if(text_col is not None):\n",
        "    for i, point in df.sort_values(by=xvar,ascending=False).iloc[0:num_to_label].iterrows():\n",
        "      ax.text(point[xvar] + xadj, point[yvar], str(point[text_col]),fontsize=labelfontsize, verticalalignment='center')\n",
        "  # plot expectation line\n",
        "  line_coords = make_center_line_coords(df,xvar,yvar)\n",
        "  plt.plot(line_coords[0],line_coords[1], color = 'k',linestyle='-', linewidth=1)\n",
        "  return(ax)\n"
      ],
      "execution_count": null,
      "outputs": []
    },
    {
      "cell_type": "markdown",
      "metadata": {
        "id": "UtTBrgZPGR0w"
      },
      "source": [
        "# Sampling Bias in Geography\n",
        "\n",
        "Since we have geographically labeled data in the panel sample and in the census data, geography is a good place to start. "
      ]
    },
    {
      "cell_type": "markdown",
      "metadata": {
        "id": "hOgMU56dKAJp"
      },
      "source": [
        "## Sampling Bias at the State Level"
      ]
    },
    {
      "cell_type": "code",
      "metadata": {
        "id": "u_IqapoQIj-l",
        "outputId": "ad885852-2c74-4474-9761-94dff36b2e65",
        "colab": {
          "base_uri": "https://localhost:8080/",
          "height": 34
        }
      },
      "source": [
        "join_df_gb_state = join_df.groupby(['state']).sum().reset_index()\n",
        "join_df_gb_state['bias'] = compute_bias(join_df_gb_state, sample_var_col='number_devices_residing' , pop_var_col='census_population')\n",
        "print(join_df_gb_state.shape)\n",
        "\n"
      ],
      "execution_count": null,
      "outputs": [
        {
          "output_type": "stream",
          "text": [
            "(52, 4)\n"
          ],
          "name": "stdout"
        }
      ]
    },
    {
      "cell_type": "code",
      "metadata": {
        "id": "tnnbc9nMWxV1",
        "outputId": "174d0272-23bf-47c7-beb8-54e5b939d1ee",
        "colab": {
          "base_uri": "https://localhost:8080/",
          "height": 496
        }
      },
      "source": [
        "print(\"Figure 1: State-Level Sampling Bias\")\n",
        "\n",
        "\n",
        "xvar = 'census_population'\n",
        "yvar = 'number_devices_residing'\n",
        "ax = plot_sg_vs_census(join_df_gb_state,xvar,yvar,text_col='state',num_to_label=3,labelfontsize=13)\n",
        "\n",
        "# Also plot PR and VA\n",
        "for i, point in join_df_gb_state[join_df_gb_state.state.isin(['PR','VA', 'PA','IL','NY'])].iterrows():\n",
        "      ax.text(point[xvar] + 9**6, point[yvar], str(point['state']),fontsize=13, verticalalignment='top')\n"
      ],
      "execution_count": null,
      "outputs": [
        {
          "output_type": "stream",
          "text": [
            "Figure 1: State-Level Sampling Bias\n",
            "pearson r: 0.977\n",
            "Sum Absolute Bias: 12.90\n"
          ],
          "name": "stdout"
        },
        {
          "output_type": "display_data",
          "data": {
            "image/png": "[encoded data removed]",
            "text/plain": [
              "<Figure size 504x504 with 1 Axes>"
            ]
          },
          "metadata": {
            "tags": []
          }
        }
      ]
    },
    {
      "cell_type": "markdown",
      "metadata": {
        "id": "YAzar7a93lzx"
      },
      "source": [
        "Figure Explanation:\n",
        "* Above is a scatter plot of `census_population` on the x-axis and  `number_devices_residing` (in panel sample) on the y-axis.\n",
        "* There is one point for each state (or US territory). The line shows the expected relationship for a true random sample. \n",
        "* Points above the line are over-indexed groups in the panel. Points below the line are under-indexed groups in the panel. \n",
        "\n",
        "Results & Interpretation:\n",
        "* Below lists the 10 states with largest absolute bias. So, the panel is under-indexed in CA by about -1.9%, and it is over-indexed in TX and FL by 2.1 and 0.9%, respectively. \n",
        "\n",
        "* The correlation coefficient is 0.98, indicating that overall the panel is not very biased at the state level. \n",
        "* Of note, Puerto Rico (PR) and Virginia (VA) are particularly under-indexed given their overall size. "
      ]
    },
    {
      "cell_type": "code",
      "metadata": {
        "id": "BR_Qqe5yavE4",
        "outputId": "b593d524-4c5b-4764-be46-39ff908cda12",
        "colab": {
          "base_uri": "https://localhost:8080/",
          "height": 347
        }
      },
      "source": [
        "# print states with largest absolute bias\n",
        "join_df_gb_state['abs_bias'] = np.absolute(join_df_gb_state.bias)\n",
        "join_df_gb_state.sort_values(by = 'abs_bias', ascending = False).head(10)"
      ],
      "execution_count": null,
      "outputs": [
        {
          "output_type": "execute_result",
          "data": {
            "text/html": [
              "<div>\n",
              "<style scoped>\n",
              "    .dataframe tbody tr th:only-of-type {\n",
              "        vertical-align: middle;\n",
              "    }\n",
              "\n",
              "    .dataframe tbody tr th {\n",
              "        vertical-align: top;\n",
              "    }\n",
              "\n",
              "    .dataframe thead th {\n",
              "        text-align: right;\n",
              "    }\n",
              "</style>\n",
              "<table border=\"1\" class=\"dataframe\">\n",
              "  <thead>\n",
              "    <tr style=\"text-align: right;\">\n",
              "      <th></th>\n",
              "      <th>state</th>\n",
              "      <th>census_population</th>\n",
              "      <th>number_devices_residing</th>\n",
              "      <th>bias</th>\n",
              "      <th>abs_bias</th>\n",
              "    </tr>\n",
              "  </thead>\n",
              "  <tbody>\n",
              "    <tr>\n",
              "      <th>44</th>\n",
              "      <td>TX</td>\n",
              "      <td>26966636</td>\n",
              "      <td>4901720.0</td>\n",
              "      <td>2.194667</td>\n",
              "      <td>2.194667</td>\n",
              "    </tr>\n",
              "    <tr>\n",
              "      <th>4</th>\n",
              "      <td>CA</td>\n",
              "      <td>38656477</td>\n",
              "      <td>4661516.0</td>\n",
              "      <td>-1.949706</td>\n",
              "      <td>1.949706</td>\n",
              "    </tr>\n",
              "    <tr>\n",
              "      <th>9</th>\n",
              "      <td>FL</td>\n",
              "      <td>19935213</td>\n",
              "      <td>3318791.0</td>\n",
              "      <td>0.965637</td>\n",
              "      <td>0.965637</td>\n",
              "    </tr>\n",
              "    <tr>\n",
              "      <th>34</th>\n",
              "      <td>NY</td>\n",
              "      <td>19701765</td>\n",
              "      <td>3256790.0</td>\n",
              "      <td>0.904479</td>\n",
              "      <td>0.904479</td>\n",
              "    </tr>\n",
              "    <tr>\n",
              "      <th>39</th>\n",
              "      <td>PR</td>\n",
              "      <td>3529385</td>\n",
              "      <td>139140.0</td>\n",
              "      <td>-0.795220</td>\n",
              "      <td>0.795220</td>\n",
              "    </tr>\n",
              "    <tr>\n",
              "      <th>46</th>\n",
              "      <td>VA</td>\n",
              "      <td>8334349</td>\n",
              "      <td>1009463.0</td>\n",
              "      <td>-0.410794</td>\n",
              "      <td>0.410794</td>\n",
              "    </tr>\n",
              "    <tr>\n",
              "      <th>48</th>\n",
              "      <td>WA</td>\n",
              "      <td>7074011</td>\n",
              "      <td>847222.0</td>\n",
              "      <td>-0.369331</td>\n",
              "      <td>0.369331</td>\n",
              "    </tr>\n",
              "    <tr>\n",
              "      <th>49</th>\n",
              "      <td>WI</td>\n",
              "      <td>5756077</td>\n",
              "      <td>678514.0</td>\n",
              "      <td>-0.323932</td>\n",
              "      <td>0.323932</td>\n",
              "    </tr>\n",
              "    <tr>\n",
              "      <th>5</th>\n",
              "      <td>CO</td>\n",
              "      <td>5359295</td>\n",
              "      <td>920513.0</td>\n",
              "      <td>0.320581</td>\n",
              "      <td>0.320581</td>\n",
              "    </tr>\n",
              "    <tr>\n",
              "      <th>19</th>\n",
              "      <td>MA</td>\n",
              "      <td>6747120</td>\n",
              "      <td>823817.0</td>\n",
              "      <td>-0.318339</td>\n",
              "      <td>0.318339</td>\n",
              "    </tr>\n",
              "  </tbody>\n",
              "</table>\n",
              "</div>"
            ],
            "text/plain": [
              "   state  census_population  number_devices_residing      bias  abs_bias\n",
              "44    TX           26966636                4901720.0  2.194667  2.194667\n",
              "4     CA           38656477                4661516.0 -1.949706  1.949706\n",
              "9     FL           19935213                3318791.0  0.965637  0.965637\n",
              "34    NY           19701765                3256790.0  0.904479  0.904479\n",
              "39    PR            3529385                 139140.0 -0.795220  0.795220\n",
              "46    VA            8334349                1009463.0 -0.410794  0.410794\n",
              "48    WA            7074011                 847222.0 -0.369331  0.369331\n",
              "49    WI            5756077                 678514.0 -0.323932  0.323932\n",
              "5     CO            5359295                 920513.0  0.320581  0.320581\n",
              "19    MA            6747120                 823817.0 -0.318339  0.318339"
            ]
          },
          "metadata": {
            "tags": []
          },
          "execution_count": 18
        }
      ]
    },
    {
      "cell_type": "markdown",
      "metadata": {
        "id": "xz0kAF1ePjjL"
      },
      "source": [
        "## Sampling Bias at the County Level"
      ]
    },
    {
      "cell_type": "markdown",
      "metadata": {
        "id": "bR5iaHvXPqd3"
      },
      "source": [
        "There are 3218 counties in the USA.\n",
        "Intuitively, as you divide your population into smaller and smaller sub-groups, it becomes harder to proportionally sample each of these sub-groups from the population given a constant sample size. \n",
        "\n",
        "Therefore, we expect sampling bias to be worse at the level of counties compared to the level of states. Nonetheless, counties are an important sub-division of the country, capturing significant variance in demographics, so we hope the sampling bias to be small. \n"
      ]
    },
    {
      "cell_type": "code",
      "metadata": {
        "id": "ZrOwDz9R5CH7",
        "outputId": "efbedb2a-c25d-4041-dcc7-4022847b8fd9",
        "colab": {
          "base_uri": "https://localhost:8080/",
          "height": 34
        }
      },
      "source": [
        "join_df_gb_county = join_df.groupby(['state', 'county']).sum().reset_index()\n",
        "join_df_gb_county['bias'] = compute_bias(join_df_gb_county, sample_var_col='number_devices_residing' , pop_var_col='census_population')\n",
        "print(join_df_gb_county.shape)\n"
      ],
      "execution_count": null,
      "outputs": [
        {
          "output_type": "stream",
          "text": [
            "(3218, 5)\n"
          ],
          "name": "stdout"
        }
      ]
    },
    {
      "cell_type": "code",
      "metadata": {
        "id": "iOBSaYSYQ-4L",
        "outputId": "4e59d96b-5c16-4295-e3ab-46a2fa9fee8d",
        "colab": {
          "base_uri": "https://localhost:8080/",
          "height": 496
        }
      },
      "source": [
        "print(\"Figure 2: County-Level Sampling Bias\")\n",
        "ax = plot_sg_vs_census(join_df_gb_county,'census_population','number_devices_residing', alpha = 0.5, text_col='county', num_to_label=9,labelfontsize=8)"
      ],
      "execution_count": null,
      "outputs": [
        {
          "output_type": "stream",
          "text": [
            "Figure 2: County-Level Sampling Bias\n",
            "pearson r: 0.966\n",
            "Sum Absolute Bias: 24.77\n"
          ],
          "name": "stdout"
        },
        {
          "output_type": "display_data",
          "data": {
            "image/png": "[encoded data removed]",
            "text/plain": [
              "<Figure size 504x504 with 1 Axes>"
            ]
          },
          "metadata": {
            "tags": []
          }
        }
      ]
    },
    {
      "cell_type": "markdown",
      "metadata": {
        "id": "WNj5fehYTIfB"
      },
      "source": [
        "Figure Explanation:\n",
        "* Above is a scatter plot of `census_population` on the x-axis and  `number_devices_residing` (in panel sample) on the y-axis.\n",
        "* There is one point for each County in the USA. The line shows the expected relationship for a true random sample. \n",
        "* Points above the line are over-indexed groups in the panel. Points below the line are under-indexed groups in the panel. \n",
        "\n",
        "Results & Interpretation:\n",
        "* Below lists the 10 counties with the largest bias. \n",
        "* Overall the correlation across all counties is 0.97. This is down from the state level, but still very high, indicating that overall the panel is not highly biased across counties."
      ]
    },
    {
      "cell_type": "code",
      "metadata": {
        "id": "ytc5kY8pRsLZ",
        "outputId": "b15a6779-6dd7-4fc3-8291-8288f22b7db3",
        "colab": {
          "base_uri": "https://localhost:8080/",
          "height": 347
        }
      },
      "source": [
        "# print counties with largest absolute bias\n",
        "join_df_gb_county['abs_bias'] = np.absolute(join_df_gb_county.bias)\n",
        "join_df_gb_county.sort_values(by = 'abs_bias', ascending = False).head(10)"
      ],
      "execution_count": null,
      "outputs": [
        {
          "output_type": "execute_result",
          "data": {
            "text/html": [
              "<div>\n",
              "<style scoped>\n",
              "    .dataframe tbody tr th:only-of-type {\n",
              "        vertical-align: middle;\n",
              "    }\n",
              "\n",
              "    .dataframe tbody tr th {\n",
              "        vertical-align: top;\n",
              "    }\n",
              "\n",
              "    .dataframe thead th {\n",
              "        text-align: right;\n",
              "    }\n",
              "</style>\n",
              "<table border=\"1\" class=\"dataframe\">\n",
              "  <thead>\n",
              "    <tr style=\"text-align: right;\">\n",
              "      <th></th>\n",
              "      <th>state</th>\n",
              "      <th>county</th>\n",
              "      <th>census_population</th>\n",
              "      <th>number_devices_residing</th>\n",
              "      <th>bias</th>\n",
              "      <th>abs_bias</th>\n",
              "    </tr>\n",
              "  </thead>\n",
              "  <tbody>\n",
              "    <tr>\n",
              "      <th>2655</th>\n",
              "      <td>TX</td>\n",
              "      <td>Dallas County</td>\n",
              "      <td>2513054</td>\n",
              "      <td>782372.0</td>\n",
              "      <td>0.906004</td>\n",
              "      <td>0.906004</td>\n",
              "    </tr>\n",
              "    <tr>\n",
              "      <th>2003</th>\n",
              "      <td>NY</td>\n",
              "      <td>Kings County</td>\n",
              "      <td>2606852</td>\n",
              "      <td>627527.0</td>\n",
              "      <td>0.543275</td>\n",
              "      <td>0.543275</td>\n",
              "    </tr>\n",
              "    <tr>\n",
              "      <th>366</th>\n",
              "      <td>FL</td>\n",
              "      <td>Orange County</td>\n",
              "      <td>1256055</td>\n",
              "      <td>388190.0</td>\n",
              "      <td>0.446693</td>\n",
              "      <td>0.446693</td>\n",
              "    </tr>\n",
              "    <tr>\n",
              "      <th>2010</th>\n",
              "      <td>NY</td>\n",
              "      <td>New York County</td>\n",
              "      <td>1634989</td>\n",
              "      <td>419742.0</td>\n",
              "      <td>0.397109</td>\n",
              "      <td>0.397109</td>\n",
              "    </tr>\n",
              "    <tr>\n",
              "      <th>2293</th>\n",
              "      <td>PA</td>\n",
              "      <td>Philadelphia County</td>\n",
              "      <td>1559938</td>\n",
              "      <td>393423.0</td>\n",
              "      <td>0.363687</td>\n",
              "      <td>0.363687</td>\n",
              "    </tr>\n",
              "    <tr>\n",
              "      <th>708</th>\n",
              "      <td>IL</td>\n",
              "      <td>Cook County</td>\n",
              "      <td>5227575</td>\n",
              "      <td>919275.0</td>\n",
              "      <td>0.358780</td>\n",
              "      <td>0.358780</td>\n",
              "    </tr>\n",
              "    <tr>\n",
              "      <th>1982</th>\n",
              "      <td>NY</td>\n",
              "      <td>Bronx County</td>\n",
              "      <td>1436785</td>\n",
              "      <td>352829.0</td>\n",
              "      <td>0.314432</td>\n",
              "      <td>0.314432</td>\n",
              "    </tr>\n",
              "    <tr>\n",
              "      <th>2818</th>\n",
              "      <td>TX</td>\n",
              "      <td>Tarrant County</td>\n",
              "      <td>1947529</td>\n",
              "      <td>424815.0</td>\n",
              "      <td>0.311072</td>\n",
              "      <td>0.311072</td>\n",
              "    </tr>\n",
              "    <tr>\n",
              "      <th>361</th>\n",
              "      <td>FL</td>\n",
              "      <td>Miami-Dade County</td>\n",
              "      <td>2664418</td>\n",
              "      <td>519316.0</td>\n",
              "      <td>0.292264</td>\n",
              "      <td>0.292264</td>\n",
              "    </tr>\n",
              "    <tr>\n",
              "      <th>1339</th>\n",
              "      <td>MN</td>\n",
              "      <td>Hennepin County</td>\n",
              "      <td>1209265</td>\n",
              "      <td>303676.0</td>\n",
              "      <td>0.279117</td>\n",
              "      <td>0.279117</td>\n",
              "    </tr>\n",
              "  </tbody>\n",
              "</table>\n",
              "</div>"
            ],
            "text/plain": [
              "     state               county  census_population  number_devices_residing      bias  abs_bias\n",
              "2655    TX        Dallas County            2513054                 782372.0  0.906004  0.906004\n",
              "2003    NY         Kings County            2606852                 627527.0  0.543275  0.543275\n",
              "366     FL        Orange County            1256055                 388190.0  0.446693  0.446693\n",
              "2010    NY      New York County            1634989                 419742.0  0.397109  0.397109\n",
              "2293    PA  Philadelphia County            1559938                 393423.0  0.363687  0.363687\n",
              "708     IL          Cook County            5227575                 919275.0  0.358780  0.358780\n",
              "1982    NY         Bronx County            1436785                 352829.0  0.314432  0.314432\n",
              "2818    TX       Tarrant County            1947529                 424815.0  0.311072  0.311072\n",
              "361     FL    Miami-Dade County            2664418                 519316.0  0.292264  0.292264\n",
              "1339    MN      Hennepin County            1209265                 303676.0  0.279117  0.279117"
            ]
          },
          "metadata": {
            "tags": []
          },
          "execution_count": 21
        }
      ]
    },
    {
      "cell_type": "markdown",
      "metadata": {
        "id": "_f8T-oOpVuPD"
      },
      "source": [
        "## Sampling Bias at the Census Block Group Level\n",
        "\n",
        "There are over 220,000 census block groups in the USA. \n",
        "\n",
        "Since SafeGraph Patterns data and Census data both are provided at the granularity of census block groups, it would be helpful if SafeGraph data was well sampled across all 220,000 census block groups. "
      ]
    },
    {
      "cell_type": "code",
      "metadata": {
        "id": "eaqqJhb2SDqt",
        "outputId": "d6b5a3a2-ae2c-4a55-ce49-469b869f1044",
        "colab": {
          "base_uri": "https://localhost:8080/",
          "height": 34
        }
      },
      "source": [
        "join_df_cbg = join_df.copy()\n",
        "join_df_cbg['bias'] = compute_bias(join_df_cbg, sample_var_col='number_devices_residing' , pop_var_col='census_population')\n",
        "print(join_df_cbg.shape)\n"
      ],
      "execution_count": null,
      "outputs": [
        {
          "output_type": "stream",
          "text": [
            "(220490, 8)\n"
          ],
          "name": "stdout"
        }
      ]
    },
    {
      "cell_type": "code",
      "metadata": {
        "id": "hmIbIIYpkMGK",
        "outputId": "29735ead-6d67-4a88-b898-1a1d2221880d",
        "colab": {
          "base_uri": "https://localhost:8080/",
          "height": 496
        }
      },
      "source": [
        "print(\"Figure 3: Census Block Group-Level Sampling Bias\")\n",
        "alpha_level = 0.05 # transparency of points (0,1)\n",
        "ax = plot_sg_vs_census(join_df_cbg,'census_population','number_devices_residing', alpha = alpha_level,num_to_label=0)"
      ],
      "execution_count": null,
      "outputs": [
        {
          "output_type": "stream",
          "text": [
            "Figure 3: Census Block Group-Level Sampling Bias\n",
            "pearson r: 0.176\n",
            "Sum Absolute Bias: 61.63\n"
          ],
          "name": "stdout"
        },
        {
          "output_type": "display_data",
          "data": {
            "image/png": "[encoded data removed]",
            "text/plain": [
              "<Figure size 504x504 with 1 Axes>"
            ]
          },
          "metadata": {
            "tags": []
          }
        }
      ]
    },
    {
      "cell_type": "markdown",
      "metadata": {
        "id": "_ceJhKiUkwZq"
      },
      "source": [
        "Figure Explanation:\n",
        "* Above is a scatter plot of `census_population` on the x-axis and  `number_devices_residing` (in panel sample) on the y-axis.\n",
        "\n",
        "* There is one point for each Census Block Group in the USA. The line shows the expected relationship for a true random sample. \n",
        "* Points above the line are over-indexed groups in the panel. Points below the line are under-indexed groups in the panel. \n",
        "\n",
        "\n",
        "\n",
        "\n",
        "(See also **CBG Sampling Bias Results** below)\n"
      ]
    },
    {
      "cell_type": "code",
      "metadata": {
        "id": "WUcUj3DZkWa_",
        "outputId": "a1ffd4cf-a9d4-4570-801d-12a66fdb78c1",
        "colab": {
          "base_uri": "https://localhost:8080/",
          "height": 317
        }
      },
      "source": [
        "# print cbgs with largest absolute bias\n",
        "join_df_cbg['abs_bias'] = np.absolute(join_df_cbg.bias)\n",
        "join_df_cbg.sort_values(by = 'abs_bias', ascending = False).head(5)"
      ],
      "execution_count": null,
      "outputs": [
        {
          "output_type": "execute_result",
          "data": {
            "text/html": [
              "<div>\n",
              "<style scoped>\n",
              "    .dataframe tbody tr th:only-of-type {\n",
              "        vertical-align: middle;\n",
              "    }\n",
              "\n",
              "    .dataframe tbody tr th {\n",
              "        vertical-align: top;\n",
              "    }\n",
              "\n",
              "    .dataframe thead th {\n",
              "        text-align: right;\n",
              "    }\n",
              "</style>\n",
              "<table border=\"1\" class=\"dataframe\">\n",
              "  <thead>\n",
              "    <tr style=\"text-align: right;\">\n",
              "      <th></th>\n",
              "      <th>census_block_group</th>\n",
              "      <th>census_population</th>\n",
              "      <th>number_devices_residing</th>\n",
              "      <th>state_fips</th>\n",
              "      <th>county_fips</th>\n",
              "      <th>state</th>\n",
              "      <th>county</th>\n",
              "      <th>bias</th>\n",
              "      <th>abs_bias</th>\n",
              "    </tr>\n",
              "  </thead>\n",
              "  <tbody>\n",
              "    <tr>\n",
              "      <th>185808</th>\n",
              "      <td>480850307023</td>\n",
              "      <td>965</td>\n",
              "      <td>78615.0</td>\n",
              "      <td>48</td>\n",
              "      <td>085</td>\n",
              "      <td>TX</td>\n",
              "      <td>Collin County</td>\n",
              "      <td>0.169084</td>\n",
              "      <td>0.169084</td>\n",
              "    </tr>\n",
              "    <tr>\n",
              "      <th>54736</th>\n",
              "      <td>131210035001</td>\n",
              "      <td>726</td>\n",
              "      <td>57721.0</td>\n",
              "      <td>13</td>\n",
              "      <td>121</td>\n",
              "      <td>GA</td>\n",
              "      <td>Fulton County</td>\n",
              "      <td>0.124140</td>\n",
              "      <td>0.124140</td>\n",
              "    </tr>\n",
              "    <tr>\n",
              "      <th>135593</th>\n",
              "      <td>360610031001</td>\n",
              "      <td>2744</td>\n",
              "      <td>54014.0</td>\n",
              "      <td>36</td>\n",
              "      <td>061</td>\n",
              "      <td>NY</td>\n",
              "      <td>New York County</td>\n",
              "      <td>0.115527</td>\n",
              "      <td>0.115527</td>\n",
              "    </tr>\n",
              "    <tr>\n",
              "      <th>197150</th>\n",
              "      <td>484391220012</td>\n",
              "      <td>2048</td>\n",
              "      <td>49953.0</td>\n",
              "      <td>48</td>\n",
              "      <td>439</td>\n",
              "      <td>TX</td>\n",
              "      <td>Tarrant County</td>\n",
              "      <td>0.106993</td>\n",
              "      <td>0.106993</td>\n",
              "    </tr>\n",
              "    <tr>\n",
              "      <th>78076</th>\n",
              "      <td>201550018002</td>\n",
              "      <td>717</td>\n",
              "      <td>47972.0</td>\n",
              "      <td>20</td>\n",
              "      <td>155</td>\n",
              "      <td>KS</td>\n",
              "      <td>Reno County</td>\n",
              "      <td>0.103138</td>\n",
              "      <td>0.103138</td>\n",
              "    </tr>\n",
              "  </tbody>\n",
              "</table>\n",
              "</div>"
            ],
            "text/plain": [
              "       census_block_group  census_population  number_devices_residing state_fips county_fips state           county      bias  abs_bias\n",
              "185808       480850307023                965                  78615.0         48         085    TX    Collin County  0.169084  0.169084\n",
              "54736        131210035001                726                  57721.0         13         121    GA    Fulton County  0.124140  0.124140\n",
              "135593       360610031001               2744                  54014.0         36         061    NY  New York County  0.115527  0.115527\n",
              "197150       484391220012               2048                  49953.0         48         439    TX   Tarrant County  0.106993  0.106993\n",
              "78076        201550018002                717                  47972.0         20         155    KS      Reno County  0.103138  0.103138"
            ]
          },
          "metadata": {
            "tags": []
          },
          "execution_count": 24
        }
      ]
    },
    {
      "cell_type": "markdown",
      "metadata": {
        "id": "-XZOGB-oQYO7"
      },
      "source": [
        "It's hard to visualize 220,000 points on one chart, so to get a sense of how many points are in the upper-left limb, let's apply a bias threshold. "
      ]
    },
    {
      "cell_type": "code",
      "metadata": {
        "id": "gcYLaiYGyy-2",
        "outputId": "1e53993d-c7eb-4ba8-d88e-0d812c789eb3",
        "colab": {
          "base_uri": "https://localhost:8080/",
          "height": 621
        }
      },
      "source": [
        "print(\"Figure 4: CBG Data excluding the most biased points\")\n",
        "print(\"\")\n",
        "transparency_level = 0.002\n",
        "bias_threshold = 0.001\n",
        "print(\"Using bias threshold of: {0}\".format(bias_threshold))\n",
        "print(\"Number of CBGs excluded with bias > threshold: {0}\".format(join_df_cbg[join_df_cbg.bias > bias_threshold].shape[0]))\n",
        "print(\"Sum of `number_devices_residing` for excluded CBGs: {0}\".format(join_df_cbg[join_df_cbg.bias > bias_threshold].number_devices_residing.sum()))\n",
        "print(\"\\nPlotting with transparency_level: {0}/1\".format(transparency_level))\n",
        "print(\"\")\n",
        "ax = plot_sg_vs_census(join_df_cbg[join_df_cbg.bias < bias_threshold],'census_population','number_devices_residing', alpha = transparency_level ,num_to_label=0)\n"
      ],
      "execution_count": null,
      "outputs": [
        {
          "output_type": "stream",
          "text": [
            "Figure 4: CBG Data excluding the most biased points\n",
            "\n",
            "Using bias threshold of: 0.001\n",
            "Number of CBGs excluded with bias > threshold: 5635\n",
            "Sum of `number_devices_residing` for excluded CBGs: 12912104.0\n",
            "\n",
            "Plotting with transparency_level: 0.002/1\n",
            "\n",
            "pearson r: 0.739\n",
            "Sum Absolute Bias: 37.01\n"
          ],
          "name": "stdout"
        },
        {
          "output_type": "display_data",
          "data": {
            "image/png": "[encoded data removed]",
            "text/plain": [
              "<Figure size 504x504 with 1 Axes>"
            ]
          },
          "metadata": {
            "tags": []
          }
        }
      ]
    },
    {
      "cell_type": "markdown",
      "metadata": {
        "id": "xvcC8tc9qw-h"
      },
      "source": [
        "### CBG Sampling Bias Results\n",
        "\n",
        "\n",
        "* Figure 3 shows that the full CBG dataset has a correlation coefficient of r = 0.18. This scatter plot looks much worse than the state- and county-level plots. This is not what we expected to see.\n",
        "\n",
        "* In Figure 3, there is a large group of points  stretching into the upper-left quadrant of the chart. Upper-left points are CBGs in which the census reports a very low population but SafeGraph reports a very large `number_devices_residing`.  So this group of points are all CBGs in which the panel is highly over-indexed.\n",
        "\n",
        "* For example, CBG `480850307023` in Collin County TX only has 965 residents according to the census, but has 78,615 `number_devices_residing` in the SafeGraph data (!)\n",
        "\n",
        "* Inspecting the chart, (and exploring a subset of the less biased data in Figure 4) we see 2 main dimensions in the data: \n",
        "  * 1st is the main group correlated along the expectation line.\n",
        "  * 2nd is the outlier group stretching into the upper-left quadrant. \n",
        "\n",
        "* Adjusting the alpha_value (transparency of the points) shows that most of the mass of points are small CBGs clustered near the bottom left of the chart. \n",
        "\n",
        "* Although the outlier group represent < 10% of all CBGs, this is still a concerning result. \n",
        "<br/><br/>\n",
        "\n",
        "* We will discuss these results further in the **Conclusions** section, but first let's examine sampling bias in demographic groups.\n",
        "\n",
        " \n"
      ]
    },
    {
      "cell_type": "markdown",
      "metadata": {
        "id": "j59mEAgW3ivG"
      },
      "source": [
        "# Sampling Bias in Demographics\n",
        "\n",
        "* Although the panel data does not contain any  demographic data, we can infer average demographics from the census block groups.\n",
        "\n",
        "* Similarly, we can examine the sampling bias along these geographic dimensions (even though they are just linear combinations of the sampling bias at the level of census block groups, as explored above).\n",
        "\n",
        "* Nonetheless, these demographic \"sub-spaces\" are lower dimension than the geography \"sub-spaces\" and therefore may be simpler quantitative views of sampling bias. \n",
        "\n",
        "* Despite having significant outliers in the sampling of individual census block groups (as viewed through the geographic lens above), when these CBGs are aggregated into demographic dimensions the outliers are smoothed over due to summing many CBGs. As shown below, the panel looks very well sampled across major demographic categories. \n",
        "\n"
      ]
    },
    {
      "cell_type": "code",
      "metadata": {
        "id": "x_OkaVQYKGO_"
      },
      "source": [
        "def sum_and_wrangle_demo_counts(df, demo_code_list):\n",
        "  # this function tidy's the demo data into expected form for visualization functions\n",
        "  \n",
        "  # sum each demo category across all CBGs \n",
        "  columns_to_sum = demo_code_list + [dc + '_panel' for dc in demo_code_list]\n",
        "  summs = pd.DataFrame(df[columns_to_sum].sum()).reset_index()\n",
        "  summs.columns = ['demo_code','count']\n",
        "  \n",
        "  # data wrangle to get into correct format for visualization\n",
        "  summs['panel'] = summs.demo_code.str.contains('panel')\n",
        "  summs['table_id'] = summs.demo_code.str.split(\"_\").str[0]\n",
        "  summs = pd.merge(summs[summs.panel], summs[~summs.panel], on='table_id', suffixes=('_panel', '_census'))\n",
        "  summs = summs[['table_id', 'count_census','count_panel']]\n",
        "  return(summs)"
      ],
      "execution_count": null,
      "outputs": []
    },
    {
      "cell_type": "markdown",
      "metadata": {
        "id": "PedLPJf_7WrP"
      },
      "source": [
        "## Sampling Bias: Race\n",
        "\n",
        "For example, let's measure the sampling bias of the panel sample in terms of Race. \n",
        "Again, we do not have any direct information about the Race of devices in the panel sample, but we can infer the average race based on the census block group. \n",
        "\n",
        "The Census divides everyone into the following top-level race categories: \n",
        "* White Alone\n",
        "* Black Or African American Alone\n",
        "* American Indian And Alaskan Native Alone\n",
        "* Asian Alone\n",
        "* Native Hawaiin and Other Pacific Islander Alone\n",
        "* Some Other Race Alone\n",
        "* Two Or More Races\n",
        "\n",
        "The table_id codes for these categorie are `['B02001e2','B02001e3','B02001e4','B02001e5','B02001e6','B02001e7','B02001e8']`\n",
        "\n",
        "\n"
      ]
    },
    {
      "cell_type": "code",
      "metadata": {
        "id": "louVLH42723v"
      },
      "source": [
        "# race_census_data = pd.read_csv(sg_ocd_dir + \"data/cbg_b02.csv\",dtype = {'census_block_group': str})\n",
        "race_census_data = pd_read_csv_drive(drive_ids['cbg_b02.csv'],dtype = {'census_block_group': str})\n",
        "race_table_ids = ['B02001e2','B02001e3','B02001e4','B02001e5','B02001e6','B02001e7','B02001e8']\n",
        "columns = ['census_block_group'] + race_table_ids\n",
        "race_census_data = race_census_data[columns]\n"
      ],
      "execution_count": null,
      "outputs": []
    },
    {
      "cell_type": "code",
      "metadata": {
        "id": "ci3NqUpF-LKh",
        "outputId": "6976d95d-29dc-4108-cff9-3f52408bf78c",
        "colab": {
          "base_uri": "https://localhost:8080/",
          "height": 257
        }
      },
      "source": [
        "join_df_race = pd.merge(join_df,race_census_data)\n",
        "\n",
        "# allocate panel count into demo categories with proportions dictated by census\n",
        "for census_id in race_table_ids: \n",
        "  # demo-group panel_count = (devices in this CBG)* (fraction of demo-group in CBG)\n",
        "  join_df_race[census_id + '_panel'] = join_df_race['number_devices_residing'] * join_df_race[census_id]/join_df_race['census_population']\n",
        "\n",
        "# sum across all CBGs\n",
        "summs_race = sum_and_wrangle_demo_counts(join_df_race, race_table_ids)\n",
        "\n",
        "# bring in census labels\n",
        "summs_race = pd.merge(summs_race, cbg_field_desc[['table_id', 'field_level_2']])\n",
        "summs_race['bias'] = compute_bias(summs_race, sample_var_col='count_panel' , pop_var_col='count_census')\n",
        "summs_race.head(10)"
      ],
      "execution_count": null,
      "outputs": [
        {
          "output_type": "execute_result",
          "data": {
            "text/html": [
              "<div>\n",
              "<style scoped>\n",
              "    .dataframe tbody tr th:only-of-type {\n",
              "        vertical-align: middle;\n",
              "    }\n",
              "\n",
              "    .dataframe tbody tr th {\n",
              "        vertical-align: top;\n",
              "    }\n",
              "\n",
              "    .dataframe thead th {\n",
              "        text-align: right;\n",
              "    }\n",
              "</style>\n",
              "<table border=\"1\" class=\"dataframe\">\n",
              "  <thead>\n",
              "    <tr style=\"text-align: right;\">\n",
              "      <th></th>\n",
              "      <th>table_id</th>\n",
              "      <th>count_census</th>\n",
              "      <th>count_panel</th>\n",
              "      <th>field_level_2</th>\n",
              "      <th>bias</th>\n",
              "    </tr>\n",
              "  </thead>\n",
              "  <tbody>\n",
              "    <tr>\n",
              "      <th>0</th>\n",
              "      <td>B02001e2</td>\n",
              "      <td>236316154.0</td>\n",
              "      <td>3.313096e+07</td>\n",
              "      <td>White Alone</td>\n",
              "      <td>-1.703598</td>\n",
              "    </tr>\n",
              "    <tr>\n",
              "      <th>1</th>\n",
              "      <td>B02001e3</td>\n",
              "      <td>40579780.0</td>\n",
              "      <td>6.508515e+06</td>\n",
              "      <td>Black Or African American Alone</td>\n",
              "      <td>1.478487</td>\n",
              "    </tr>\n",
              "    <tr>\n",
              "      <th>2</th>\n",
              "      <td>B02001e4</td>\n",
              "      <td>2594562.0</td>\n",
              "      <td>3.124403e+05</td>\n",
              "      <td>American Indian And Alaska Native Alone</td>\n",
              "      <td>-0.129616</td>\n",
              "    </tr>\n",
              "    <tr>\n",
              "      <th>3</th>\n",
              "      <td>B02001e5</td>\n",
              "      <td>16628807.0</td>\n",
              "      <td>2.498749e+06</td>\n",
              "      <td>Asian Alone</td>\n",
              "      <td>0.242034</td>\n",
              "    </tr>\n",
              "    <tr>\n",
              "      <th>4</th>\n",
              "      <td>B02001e6</td>\n",
              "      <td>560419.0</td>\n",
              "      <td>7.264542e+04</td>\n",
              "      <td>Native Hawaiian And Other Pacific Islander Alone</td>\n",
              "      <td>-0.016845</td>\n",
              "    </tr>\n",
              "    <tr>\n",
              "      <th>5</th>\n",
              "      <td>B02001e7</td>\n",
              "      <td>15612844.0</td>\n",
              "      <td>2.294272e+06</td>\n",
              "      <td>Some Other Race Alone</td>\n",
              "      <td>0.115250</td>\n",
              "    </tr>\n",
              "    <tr>\n",
              "      <th>6</th>\n",
              "      <td>B02001e8</td>\n",
              "      <td>10022928.0</td>\n",
              "      <td>1.445228e+06</td>\n",
              "      <td>Two Or More Races</td>\n",
              "      <td>0.014288</td>\n",
              "    </tr>\n",
              "  </tbody>\n",
              "</table>\n",
              "</div>"
            ],
            "text/plain": [
              "   table_id  count_census   count_panel                                      field_level_2      bias\n",
              "0  B02001e2   236316154.0  3.313096e+07                                        White Alone -1.703598\n",
              "1  B02001e3    40579780.0  6.508515e+06                    Black Or African American Alone  1.478487\n",
              "2  B02001e4     2594562.0  3.124403e+05            American Indian And Alaska Native Alone -0.129616\n",
              "3  B02001e5    16628807.0  2.498749e+06                                        Asian Alone  0.242034\n",
              "4  B02001e6      560419.0  7.264542e+04   Native Hawaiian And Other Pacific Islander Alone -0.016845\n",
              "5  B02001e7    15612844.0  2.294272e+06                              Some Other Race Alone  0.115250\n",
              "6  B02001e8    10022928.0  1.445228e+06                                  Two Or More Races  0.014288"
            ]
          },
          "metadata": {
            "tags": []
          },
          "execution_count": 28
        }
      ]
    },
    {
      "cell_type": "code",
      "metadata": {
        "id": "bqTCWW28_14k",
        "outputId": "e0ebdf07-698b-4bce-97de-ad89612819b4",
        "colab": {
          "base_uri": "https://localhost:8080/",
          "height": 507
        }
      },
      "source": [
        "print(\"Figure 5: Race-Level Sampling Bias\")\n",
        "ax = plot_sg_vs_census(summs_race,'count_census','count_panel', text_col = 'field_level_2', labelfontsize=10, num_to_label=3)"
      ],
      "execution_count": null,
      "outputs": [
        {
          "output_type": "stream",
          "text": [
            "Figure 5: Race-Level Sampling Bias\n",
            "pearson r: 1.000\n",
            "Sum Absolute Bias: 3.70\n"
          ],
          "name": "stdout"
        },
        {
          "output_type": "display_data",
          "data": {
            "image/png": "[encoded data removed]",
            "text/plain": [
              "<Figure size 504x504 with 1 Axes>"
            ]
          },
          "metadata": {
            "tags": []
          }
        }
      ]
    },
    {
      "cell_type": "markdown",
      "metadata": {
        "id": "-FN0mq8qH3xJ"
      },
      "source": [
        "Figure Description: \n",
        "\n",
        "* Above is a scatter plot of `census_population` on the x-axis and  `number_devices_residing` (panel) on the y-axis.\n",
        "\n",
        "* There is one point for each Top Level Census Race Category. The line shows the expected relationship for a true random sample. \n",
        "* Points above the line are over-indexed groups in the panel. Points below the line are under-indexed groups in the panel. \n",
        "\n",
        "Results:\n",
        "* Overall, the panel is well-sampled across demographic categories. \n",
        "* Slightly under-indexed on `White Alone` and slightly over-indexed on `Black Or African American Alone`"
      ]
    },
    {
      "cell_type": "markdown",
      "metadata": {
        "id": "C6odcdrTIers"
      },
      "source": [
        "## Sampling Bias: Educational Attainment For The Population 25 Years And Over\n",
        "\n",
        "As another example, let's look at the Education Attainment for the Population 25 years and over. \n",
        "\n",
        "\n",
        "The Census divides everyone into the following top-level Educational Attainment categories: \n",
        "\n",
        "1. No Schooling Completed\n",
        "2. Nursery School\n",
        "3. Kindergarten\n",
        "4. 1St Grade\n",
        "5. 2Nd Grade\n",
        "6. 3Rd Grade\n",
        "7. 4Th Grade\n",
        "8. 5Th Grade\n",
        "9. 6Th Grade\n",
        "10. 7Th Grade\n",
        "11. 8Th Grade\n",
        "12. 9Th Grade\n",
        "13. 10Th Grade\n",
        "14. 11Th Grade\n",
        "15. 12Th Grade, No Diploma\n",
        "16. Regular High School Diploma\n",
        "17. Ged Or Alternative Credential\n",
        "18. Some College, Less Than 1 Year\n",
        "19. Some College, 1 Or More Years, No Degree\n",
        "20. Associate'S Degree\n",
        "21. Bachelor'S Degree\n",
        "22. Master'S Degree\n",
        "23. Professional School Degree\n",
        "24. Doctorate Degree\n",
        "\n",
        "\n",
        "The table_id codes for these categorie are `['B15003e10','B15003e11','B15003e12','B15003e13','B15003e14','B15003e15','B15003e16','B15003e17','B15003e18','B15003e19','B15003e2','B15003e20','B15003e21','B15003e22','B15003e23','B15003e24','B15003e25','B15003e3','B15003e4','B15003e5','B15003e6','B15003e7','B15003e8','B15003e9']`\n",
        "\n"
      ]
    },
    {
      "cell_type": "code",
      "metadata": {
        "id": "4SNROikwJwDk"
      },
      "source": [
        "# edu_census_data = pd.read_csv(sg_ocd_dir + \"data/cbg_b15.csv\",dtype = {'census_block_group': str})\n",
        "edu_census_data = pd_read_csv_drive(drive_ids['cbg_b15.csv'],dtype = {'census_block_group': str})\n",
        "edu_table_ids = ['B15003e10','B15003e11','B15003e12','B15003e13','B15003e14','B15003e15','B15003e16','B15003e17','B15003e18','B15003e19','B15003e2','B15003e20','B15003e21','B15003e22','B15003e23','B15003e24','B15003e25','B15003e3','B15003e4','B15003e5','B15003e6','B15003e7','B15003e8','B15003e9']\n",
        "columns = ['census_block_group'] + edu_table_ids\n",
        "edu_census_data = edu_census_data[columns]\n"
      ],
      "execution_count": null,
      "outputs": []
    },
    {
      "cell_type": "code",
      "metadata": {
        "id": "X7RIxBClJwAB",
        "outputId": "9dbc77ed-12fb-47d4-a58f-205f88123b0e",
        "colab": {
          "base_uri": "https://localhost:8080/",
          "height": 347
        }
      },
      "source": [
        "join_df_edu = pd.merge(join_df,edu_census_data)\n",
        "\n",
        "# allocate panel count into demo categories with proportions dictated by the census\n",
        "for census_id in edu_table_ids: \n",
        "  # demo-group panel_count = (devices in this CBG)* (fraction of demo-group in CBG) census block group\n",
        "  join_df_edu[census_id + '_panel'] = join_df_race['number_devices_residing'] * join_df_edu[census_id]/join_df_edu['census_population']\n",
        "\n",
        "\n",
        "# sum across all CBGs\n",
        "summs_edu = sum_and_wrangle_demo_counts(join_df_edu, edu_table_ids)\n",
        "\n",
        "# bring in census labels\n",
        "summs_edu = pd.merge(summs_edu, cbg_field_desc[['table_id', 'field_level_2']])\n",
        "summs_edu['bias'] = compute_bias(summs_edu, sample_var_col='count_panel' , pop_var_col='count_census')\n",
        "summs_edu['abs_bias'] =  np.absolute(summs_edu.bias)\n",
        "summs_edu.sort_values(by='abs_bias', ascending = False).head(10)"
      ],
      "execution_count": null,
      "outputs": [
        {
          "output_type": "execute_result",
          "data": {
            "text/html": [
              "<div>\n",
              "<style scoped>\n",
              "    .dataframe tbody tr th:only-of-type {\n",
              "        vertical-align: middle;\n",
              "    }\n",
              "\n",
              "    .dataframe tbody tr th {\n",
              "        vertical-align: top;\n",
              "    }\n",
              "\n",
              "    .dataframe thead th {\n",
              "        text-align: right;\n",
              "    }\n",
              "</style>\n",
              "<table border=\"1\" class=\"dataframe\">\n",
              "  <thead>\n",
              "    <tr style=\"text-align: right;\">\n",
              "      <th></th>\n",
              "      <th>table_id</th>\n",
              "      <th>count_census</th>\n",
              "      <th>count_panel</th>\n",
              "      <th>field_level_2</th>\n",
              "      <th>bias</th>\n",
              "      <th>abs_bias</th>\n",
              "    </tr>\n",
              "  </thead>\n",
              "  <tbody>\n",
              "    <tr>\n",
              "      <th>7</th>\n",
              "      <td>B15003e17</td>\n",
              "      <td>50927240.0</td>\n",
              "      <td>6.982484e+06</td>\n",
              "      <td>Regular High School Diploma</td>\n",
              "      <td>-1.016328</td>\n",
              "      <td>1.016328</td>\n",
              "    </tr>\n",
              "    <tr>\n",
              "      <th>13</th>\n",
              "      <td>B15003e22</td>\n",
              "      <td>40641500.0</td>\n",
              "      <td>6.120809e+06</td>\n",
              "      <td>Bachelor'S Degree</td>\n",
              "      <td>0.959583</td>\n",
              "      <td>0.959583</td>\n",
              "    </tr>\n",
              "    <tr>\n",
              "      <th>14</th>\n",
              "      <td>B15003e23</td>\n",
              "      <td>17576123.0</td>\n",
              "      <td>2.642019e+06</td>\n",
              "      <td>Master'S Degree</td>\n",
              "      <td>0.398751</td>\n",
              "      <td>0.398751</td>\n",
              "    </tr>\n",
              "    <tr>\n",
              "      <th>12</th>\n",
              "      <td>B15003e21</td>\n",
              "      <td>17712352.0</td>\n",
              "      <td>2.473185e+06</td>\n",
              "      <td>Associate'S Degree</td>\n",
              "      <td>-0.209206</td>\n",
              "      <td>0.209206</td>\n",
              "    </tr>\n",
              "    <tr>\n",
              "      <th>15</th>\n",
              "      <td>B15003e24</td>\n",
              "      <td>4297487.0</td>\n",
              "      <td>6.777504e+05</td>\n",
              "      <td>Professional School Degree</td>\n",
              "      <td>0.200003</td>\n",
              "      <td>0.200003</td>\n",
              "    </tr>\n",
              "    <tr>\n",
              "      <th>9</th>\n",
              "      <td>B15003e19</td>\n",
              "      <td>13399458.0</td>\n",
              "      <td>1.885504e+06</td>\n",
              "      <td>Some College, Less Than 1 Year</td>\n",
              "      <td>-0.111365</td>\n",
              "      <td>0.111365</td>\n",
              "    </tr>\n",
              "    <tr>\n",
              "      <th>2</th>\n",
              "      <td>B15003e12</td>\n",
              "      <td>2936243.0</td>\n",
              "      <td>3.894508e+05</td>\n",
              "      <td>8Th Grade</td>\n",
              "      <td>-0.100973</td>\n",
              "      <td>0.100973</td>\n",
              "    </tr>\n",
              "    <tr>\n",
              "      <th>8</th>\n",
              "      <td>B15003e18</td>\n",
              "      <td>8602005.0</td>\n",
              "      <td>1.202105e+06</td>\n",
              "      <td>Ged Or Alternative Credential</td>\n",
              "      <td>-0.098366</td>\n",
              "      <td>0.098366</td>\n",
              "    </tr>\n",
              "    <tr>\n",
              "      <th>16</th>\n",
              "      <td>B15003e25</td>\n",
              "      <td>2887842.0</td>\n",
              "      <td>4.441886e+05</td>\n",
              "      <td>Doctorate Degree</td>\n",
              "      <td>0.098091</td>\n",
              "      <td>0.098091</td>\n",
              "    </tr>\n",
              "    <tr>\n",
              "      <th>4</th>\n",
              "      <td>B15003e14</td>\n",
              "      <td>4087743.0</td>\n",
              "      <td>5.676218e+05</td>\n",
              "      <td>10Th Grade</td>\n",
              "      <td>-0.058455</td>\n",
              "      <td>0.058455</td>\n",
              "    </tr>\n",
              "  </tbody>\n",
              "</table>\n",
              "</div>"
            ],
            "text/plain": [
              "     table_id  count_census   count_panel                    field_level_2      bias  abs_bias\n",
              "7   B15003e17    50927240.0  6.982484e+06      Regular High School Diploma -1.016328  1.016328\n",
              "13  B15003e22    40641500.0  6.120809e+06                Bachelor'S Degree  0.959583  0.959583\n",
              "14  B15003e23    17576123.0  2.642019e+06                  Master'S Degree  0.398751  0.398751\n",
              "12  B15003e21    17712352.0  2.473185e+06               Associate'S Degree -0.209206  0.209206\n",
              "15  B15003e24     4297487.0  6.777504e+05       Professional School Degree  0.200003  0.200003\n",
              "9   B15003e19    13399458.0  1.885504e+06   Some College, Less Than 1 Year -0.111365  0.111365\n",
              "2   B15003e12     2936243.0  3.894508e+05                        8Th Grade -0.100973  0.100973\n",
              "8   B15003e18     8602005.0  1.202105e+06    Ged Or Alternative Credential -0.098366  0.098366\n",
              "16  B15003e25     2887842.0  4.441886e+05                 Doctorate Degree  0.098091  0.098091\n",
              "4   B15003e14     4087743.0  5.676218e+05                       10Th Grade -0.058455  0.058455"
            ]
          },
          "metadata": {
            "tags": []
          },
          "execution_count": 31
        }
      ]
    },
    {
      "cell_type": "code",
      "metadata": {
        "id": "jLKK4CpzJv4g",
        "outputId": "dcaffc78-e731-4940-eee9-79dc9e0ece8a",
        "colab": {
          "base_uri": "https://localhost:8080/",
          "height": 496
        }
      },
      "source": [
        "print(\"Figure 6: Educationl Attainment-Level Sampling Bias\")\n",
        "ax = plot_sg_vs_census(summs_edu,'count_census','count_panel', text_col='field_level_2',labelfontsize=12,num_to_label=8)"
      ],
      "execution_count": null,
      "outputs": [
        {
          "output_type": "stream",
          "text": [
            "Figure 6: Educationl Attainment-Level Sampling Bias\n",
            "pearson r: 0.999\n",
            "Sum Absolute Bias: 3.43\n"
          ],
          "name": "stdout"
        },
        {
          "output_type": "display_data",
          "data": {
            "image/png": "[encoded data removed]",
            "text/plain": [
              "<Figure size 504x504 with 1 Axes>"
            ]
          },
          "metadata": {
            "tags": []
          }
        }
      ]
    },
    {
      "cell_type": "markdown",
      "metadata": {
        "id": "5CSrhFe_MHEQ"
      },
      "source": [
        "Figure Description: \n",
        "\n",
        "* Above is a scatter plot of `census_population` on the x-axis and  `number_devices_residing` (panel) on the y-axis.\n",
        "\n",
        "* There is one point for each Top Level Category in Educational Attainment for The Population 25 Years And Older. The line shows the expected relationship for a true random sample. \n",
        "* Points above the line are over-indexed groups in the panel. Points below the line are under-indexed groups in the panel. \n",
        "\n",
        "Results:\n",
        "* Overall, the panel is well-sampled across educational attainment categories. \n",
        "* Inspecting the chart and the list above shows that the panel is slightly over-indexed on higher education levels like Bachelor's Degree and Masters Degree and under-indexed on High School Diploma. "
      ]
    },
    {
      "cell_type": "markdown",
      "metadata": {
        "id": "LxBDP8E_uqO6"
      },
      "source": [
        "## Sampling Bias: Household Income\n",
        "\n",
        "For the final example, we examine Household Income In The Past 12 Months (in 2016 inflation-adjusted dollars).\n",
        "\n",
        "\n",
        "The Census divides everyone into the following household income levels: \n",
        "\n",
        "1. Less Than \\$10,000\n",
        "2. \\$10,000 To \\$14,999\n",
        "3. \\$15,000 To \\$19,999\n",
        "4. \\$20,000 To \\$24,999\n",
        "5. \\$25,000 To \\$29,999\n",
        "6. \\$30,000 To \\$34,999\n",
        "7. \\$35,000 To \\$39,999\n",
        "8. \\$40,000 To \\$44,999\n",
        "9. \\$45,000 To \\$49,999\n",
        "10. \\$50,000 To \\$59,999\n",
        "11. \\$60,000 To \\$74,999\n",
        "12. \\$75,000 To \\$99,999\n",
        "13. \\$100,000 To \\$124,999\n",
        "14. \\$125,000 To \\$149,999\n",
        "15. \\$150,000 To \\$199,999\n",
        "16. \\$200,000 Or More\n",
        "\n",
        "\n",
        "The table_id codes for these categorie are `['B19001e10', 'B19001e11', 'B19001e12', 'B19001e13', 'B19001e14', 'B19001e15', 'B19001e16', 'B19001e17', 'B19001e2', 'B19001e3', 'B19001e4', 'B19001e5', 'B19001e6', 'B19001e7', 'B19001e8', 'B19001e9']`\n",
        "\n",
        "\n"
      ]
    },
    {
      "cell_type": "code",
      "metadata": {
        "id": "xNcRsxRVxdy_"
      },
      "source": [
        "# inc_census_data = pd.read_csv(sg_ocd_dir + \"data/cbg_b19.csv\",dtype = {'census_block_group': str})\n",
        "inc_census_data = pd_read_csv_drive(drive_ids[\"cbg_b19.csv\"],dtype = {'census_block_group': str})\n",
        "inc_table_ids = ['B19001e10', 'B19001e11', 'B19001e12', 'B19001e13', 'B19001e14', 'B19001e15', 'B19001e16', 'B19001e17', 'B19001e2', 'B19001e3', 'B19001e4', 'B19001e5', 'B19001e6', 'B19001e7', 'B19001e8', 'B19001e9']\n",
        "columns = ['census_block_group'] + inc_table_ids\n",
        "inc_census_data = inc_census_data[columns]\n"
      ],
      "execution_count": null,
      "outputs": []
    },
    {
      "cell_type": "code",
      "metadata": {
        "id": "6h7PhY8rxrjl",
        "outputId": "6eb8867b-7326-4f5d-e71a-e741001b5057",
        "colab": {
          "base_uri": "https://localhost:8080/",
          "height": 347
        }
      },
      "source": [
        "join_df_inc = pd.merge(join_df,inc_census_data)\n",
        "join_df_inc['census_population'] = join_df_inc[inc_table_ids].sum(axis=1) # total number of households <> total population, so we will re-define census_population to be total households\n",
        "\n",
        "# allocate panel count into demo categories with proportions dictated by the census\n",
        "for census_id in inc_table_ids: \n",
        "  # demo-group panel_count = (devices in this CBG)* (fraction of demo-group in CBG) census block group\n",
        "  join_df_inc[census_id + '_panel'] = join_df_inc['number_devices_residing'] * join_df_inc[census_id]/join_df_inc['census_population']\n",
        "\n",
        "# sum across all CBGs\n",
        "summs_edu = sum_and_wrangle_demo_counts(join_df_inc, inc_table_ids)\n",
        "\n",
        "# bring in census labels\n",
        "summs_inc = pd.merge(summs_edu, cbg_field_desc[['table_id', 'field_level_2']])\n",
        "\n",
        "summs_inc['bias'] = compute_bias(summs_inc, sample_var_col='count_panel' , pop_var_col='count_census')\n",
        "summs_inc['abs_bias'] =  np.absolute(summs_inc.bias)\n",
        "summs_inc.sort_values(by='abs_bias', ascending = False).head(10)"
      ],
      "execution_count": null,
      "outputs": [
        {
          "output_type": "execute_result",
          "data": {
            "text/html": [
              "<div>\n",
              "<style scoped>\n",
              "    .dataframe tbody tr th:only-of-type {\n",
              "        vertical-align: middle;\n",
              "    }\n",
              "\n",
              "    .dataframe tbody tr th {\n",
              "        vertical-align: top;\n",
              "    }\n",
              "\n",
              "    .dataframe thead th {\n",
              "        text-align: right;\n",
              "    }\n",
              "</style>\n",
              "<table border=\"1\" class=\"dataframe\">\n",
              "  <thead>\n",
              "    <tr style=\"text-align: right;\">\n",
              "      <th></th>\n",
              "      <th>table_id</th>\n",
              "      <th>count_census</th>\n",
              "      <th>count_panel</th>\n",
              "      <th>field_level_2</th>\n",
              "      <th>bias</th>\n",
              "      <th>abs_bias</th>\n",
              "    </tr>\n",
              "  </thead>\n",
              "  <tbody>\n",
              "    <tr>\n",
              "      <th>8</th>\n",
              "      <td>B19001e2</td>\n",
              "      <td>8605569.0</td>\n",
              "      <td>3.589826e+06</td>\n",
              "      <td>Less Than $10,000</td>\n",
              "      <td>0.554667</td>\n",
              "      <td>0.554667</td>\n",
              "    </tr>\n",
              "    <tr>\n",
              "      <th>3</th>\n",
              "      <td>B19001e13</td>\n",
              "      <td>14418888.0</td>\n",
              "      <td>5.491797e+06</td>\n",
              "      <td>$75,000 To $99,999</td>\n",
              "      <td>-0.204745</td>\n",
              "      <td>0.204745</td>\n",
              "    </tr>\n",
              "    <tr>\n",
              "      <th>2</th>\n",
              "      <td>B19001e12</td>\n",
              "      <td>11781742.0</td>\n",
              "      <td>4.483621e+06</td>\n",
              "      <td>$60,000 To $74,999</td>\n",
              "      <td>-0.175435</td>\n",
              "      <td>0.175435</td>\n",
              "    </tr>\n",
              "    <tr>\n",
              "      <th>1</th>\n",
              "      <td>B19001e11</td>\n",
              "      <td>9267047.0</td>\n",
              "      <td>3.521926e+06</td>\n",
              "      <td>$50,000 To $59,999</td>\n",
              "      <td>-0.148204</td>\n",
              "      <td>0.148204</td>\n",
              "    </tr>\n",
              "    <tr>\n",
              "      <th>7</th>\n",
              "      <td>B19001e17</td>\n",
              "      <td>6684535.0</td>\n",
              "      <td>2.650053e+06</td>\n",
              "      <td>$200,000 Or More</td>\n",
              "      <td>0.130745</td>\n",
              "      <td>0.130745</td>\n",
              "    </tr>\n",
              "    <tr>\n",
              "      <th>9</th>\n",
              "      <td>B19001e3</td>\n",
              "      <td>6150927.0</td>\n",
              "      <td>2.441766e+06</td>\n",
              "      <td>$10,000 To $14,999</td>\n",
              "      <td>0.127376</td>\n",
              "      <td>0.127376</td>\n",
              "    </tr>\n",
              "    <tr>\n",
              "      <th>4</th>\n",
              "      <td>B19001e14</td>\n",
              "      <td>9886097.0</td>\n",
              "      <td>3.786931e+06</td>\n",
              "      <td>$100,000 To $124,999</td>\n",
              "      <td>-0.093632</td>\n",
              "      <td>0.093632</td>\n",
              "    </tr>\n",
              "    <tr>\n",
              "      <th>0</th>\n",
              "      <td>B19001e10</td>\n",
              "      <td>4818829.0</td>\n",
              "      <td>1.828747e+06</td>\n",
              "      <td>$45,000 To $49,999</td>\n",
              "      <td>-0.082793</td>\n",
              "      <td>0.082793</td>\n",
              "    </tr>\n",
              "    <tr>\n",
              "      <th>13</th>\n",
              "      <td>B19001e7</td>\n",
              "      <td>5931751.0</td>\n",
              "      <td>2.277210e+06</td>\n",
              "      <td>$30,000 To $34,999</td>\n",
              "      <td>-0.045305</td>\n",
              "      <td>0.045305</td>\n",
              "    </tr>\n",
              "    <tr>\n",
              "      <th>12</th>\n",
              "      <td>B19001e6</td>\n",
              "      <td>5857695.0</td>\n",
              "      <td>2.251454e+06</td>\n",
              "      <td>$25,000 To $29,999</td>\n",
              "      <td>-0.038941</td>\n",
              "      <td>0.038941</td>\n",
              "    </tr>\n",
              "  </tbody>\n",
              "</table>\n",
              "</div>"
            ],
            "text/plain": [
              "     table_id  count_census   count_panel          field_level_2      bias  abs_bias\n",
              "8    B19001e2     8605569.0  3.589826e+06      Less Than $10,000  0.554667  0.554667\n",
              "3   B19001e13    14418888.0  5.491797e+06     $75,000 To $99,999 -0.204745  0.204745\n",
              "2   B19001e12    11781742.0  4.483621e+06     $60,000 To $74,999 -0.175435  0.175435\n",
              "1   B19001e11     9267047.0  3.521926e+06     $50,000 To $59,999 -0.148204  0.148204\n",
              "7   B19001e17     6684535.0  2.650053e+06       $200,000 Or More  0.130745  0.130745\n",
              "9    B19001e3     6150927.0  2.441766e+06     $10,000 To $14,999  0.127376  0.127376\n",
              "4   B19001e14     9886097.0  3.786931e+06   $100,000 To $124,999 -0.093632  0.093632\n",
              "0   B19001e10     4818829.0  1.828747e+06     $45,000 To $49,999 -0.082793  0.082793\n",
              "13   B19001e7     5931751.0  2.277210e+06     $30,000 To $34,999 -0.045305  0.045305\n",
              "12   B19001e6     5857695.0  2.251454e+06     $25,000 To $29,999 -0.038941  0.038941"
            ]
          },
          "metadata": {
            "tags": []
          },
          "execution_count": 34
        }
      ]
    },
    {
      "cell_type": "code",
      "metadata": {
        "id": "Gvy1v3TAz4Jb",
        "outputId": "f4249b4a-81a6-4ebf-bf57-22829689cbe9",
        "colab": {
          "base_uri": "https://localhost:8080/",
          "height": 514
        }
      },
      "source": [
        "print(\"Figure 7: Household Income In The Past 12 Months - Sampling Bias\\n\")\n",
        "\n",
        "xvar = 'count_census'\n",
        "yvar = 'count_panel'\n",
        "label_col = 'labels'\n",
        "labelfontsize = 12\n",
        "\n",
        "summs_inc['labels'] = summs_inc.field_level_2.str.replace(pat='$',repl='\\$', regex=False)\n",
        "ax = plot_sg_vs_census(summs_inc,xvar,yvar, text_col=label_col,labelfontsize=labelfontsize,num_to_label=7)\n",
        "\n",
        "# Plot a few more levels\n",
        "for i, point in summs_inc[summs_inc.table_id.isin(['B19001e10','B19001e9'])].iterrows():\n",
        "      ax.text(point[xvar]*1.02, point[yvar], str(point[label_col]),fontsize=labelfontsize, verticalalignment='top')\n"
      ],
      "execution_count": null,
      "outputs": [
        {
          "output_type": "stream",
          "text": [
            "Figure 7: Household Income In The Past 12 Months - Sampling Bias\n",
            "\n",
            "pearson r: 0.997\n",
            "Sum Absolute Bias: 1.75\n"
          ],
          "name": "stdout"
        },
        {
          "output_type": "display_data",
          "data": {
            "image/png": "[encoded data removed]",
            "text/plain": [
              "<Figure size 504x504 with 1 Axes>"
            ]
          },
          "metadata": {
            "tags": []
          }
        }
      ]
    },
    {
      "cell_type": "markdown",
      "metadata": {
        "id": "6KXGczM04oZS"
      },
      "source": [
        "Figure Description: \n",
        "\n",
        "* Above is a scatter plot of `census_population` on the x-axis and  `number_devices_residing` (panel) on the y-axis.\n",
        "\n",
        "* There is one point for each Census category of household income. The line shows the expected relationship for a true random sample. \n",
        "* Points above the line are over-indexed groups in the panel. Points below the line are under-indexed groups in the panel. \n",
        "\n",
        "Results:\n",
        "* Overall, the panel is well-sampled across household income averages. \n",
        "* Perhaps unexpected, the panel is slightly overindexed on `Less than $10,000` (which includes both unemployed and retired households). "
      ]
    },
    {
      "cell_type": "markdown",
      "metadata": {
        "id": "E-WFUxlgxNcK"
      },
      "source": [
        "# Conclusions \n",
        "\n",
        "* We quantified Sampling Bias in the SafeGraph panel across multiple geographic and demographic dimensions (demographic dimensions are inferred from the geographic dimenions, specifically the census block groups).\n",
        "* Overall, on most dimensions examined, the panel is well sampled showing high correlations with the true population and low sum of absolute bias. \n",
        "* However, ~ 10% of census block groups (CBGs) show disproportionately and sometimes impossibly high `number_devices_residing` in the sample panel compared to the true `census_population`.\n",
        "* These troublesome CBGs contain a relatively large % of the total panel devices (30-40% of total devices). \n",
        "* The fact that the data is well-sampled at the county-level but shows extreme sampling outliers at the CBG-level suggests the following interpretation: \n",
        "  * These outlier CBGs are likely not ***over-sampled***, but rather represent errors or technical limits in the ***attribution*** or linking of devices to home CBGs. For whatever reason, during the process SafeGraph uses to determine home CBG attribution, a minority of CBGs link to devices at a disproportionately high rate. \n",
        "  * Since the county-level data is well-correlated, this suggests that the misattribution is probably between geospatially proximate census block groups (i.e. neighbors) such that misattributing a device from one CBG to a neighbor CBG usually will not change the county-level attribution of that device. One metaphor is to think of these over-indexed CBGs as sinks or sponges, \"stealing away\" many devices from the devices' true (nearby) home CBG. Mobile device location data can exhibit \"sink\"-like behavior in some geographies for a variety of reasons (e.g., see section on **Sink Detection** in [this post](https://medium.com/@natasha_18377/less-than-10-of-bid-stream-location-data-is-high-quality-and-we-know-how-to-find-it-3a2c0df35475#---198-453).\n",
        "* This interpretation is further supported by the fact that when individual CBGs are proportionally divided into demographic categories and aggregated within categories, sampling outliers seem to be smoothed over. Since neighboring CBGs, on average, have more similar demographic profiles than two geospatially distant CBGs, erroneously attributing a device to a near-neighbor CBG may not significantly distort the apparent overall demographic sampling when aggregated nationally.\n"
      ]
    },
    {
      "cell_type": "markdown",
      "metadata": {
        "id": "cSIozESwRWaV"
      },
      "source": [
        "# Key Takeaways\n",
        "\n",
        "1.  The SafeGraph dataset shows compelling sampling rates across all US states and counties, as well as multiple demographic dimensions (demographics are inferred from the census block groups). The empirical sampling rates in the sample panel are quantitatively very close to the expected sampling rate from a large-N random sample.\n",
        "\n",
        "2. At the level of census block groups, the sampling picture is more complicated. Given the large outliers in the `number_devices_residing` for select CBGs, one should consider methods for correcting and controlling these errors whenever using the specific CBG counts in the SafeGraph dataset. \n",
        "\n",
        "3. When doing large national analyses, the CBG sampling error issues seem to smooth over and are likely minimal. However, local analyses examining only a few CBGs are vulnerable to distortions due to the sampling errors in individual CBGs and therefore you should proceed with caution. \n"
      ]
    },
    {
      "cell_type": "markdown",
      "metadata": {
        "id": "IabflmC826gO"
      },
      "source": [
        "# Preview: How to proceed with caution and correct sampling bias? \n",
        "\n",
        "\n"
      ]
    },
    {
      "cell_type": "markdown",
      "metadata": {
        "id": "Pxiyc7HPSEBd"
      },
      "source": [
        "When we analyzed sampling bias at the level of CBGs we saw a distorted picture with many highly over-indexed CBGs (See Figure 3). What if our analysis involved some of those very over-indexed CBGs (or under-indexed CBGs)? How can we use the data without getting a distorted picture?\n",
        "\n",
        "There is a deep statistics literature with many strategies for how to account and correct for sampling bias.\n",
        "\n",
        "But the short answer is we can use a method I call **Post-hoc Stratification Re-Weighting**\n",
        "\n",
        "* **Post-hoc** because we are doing it *after* data collection.\n",
        "* **[Stratification](https://en.wikipedia.org/wiki/Stratified_sampling)** sampling is a method of sampling from a population which can be partitioned into subpopulations (that's us!).\n",
        "* **Re-weighting** is the method for *correcting* the sampling bias, given known strata (subpopulations).  \n",
        "* If you know of a different standard name for this procedure, please let me know!\n",
        "<br><br/>\n",
        "---\n",
        "<br><br/>\n",
        "We will dive into post-hoc stratification re-weighting in a future post, but as a preview, this methodology allows us to take raw data like this: "
      ]
    },
    {
      "cell_type": "code",
      "metadata": {
        "id": "RETvLCFgpYtE",
        "outputId": "23b4c1f0-5cbd-4b5f-cc11-91ef425a910e",
        "colab": {
          "base_uri": "https://localhost:8080/",
          "height": 532
        }
      },
      "source": [
        "print(\"Figure 7: Uncorrected Census Block Group-Level Sampling Bias \\n(same data as Figure 3)\\n\")\n",
        "ax = plot_sg_vs_census(join_df_cbg,'census_population','number_devices_residing', alpha = 0.2,num_to_label=0)"
      ],
      "execution_count": null,
      "outputs": [
        {
          "output_type": "stream",
          "text": [
            "Figure 7: Uncorrected Census Block Group-Level Sampling Bias \n",
            "(same data as Figure 3)\n",
            "\n",
            "pearson r: 0.176\n",
            "Sum Absolute Bias: 61.63\n"
          ],
          "name": "stdout"
        },
        {
          "output_type": "display_data",
          "data": {
            "image/png": "[encoded data removed]",
            "text/plain": [
              "<Figure size 504x504 with 1 Axes>"
            ]
          },
          "metadata": {
            "tags": []
          }
        }
      ]
    },
    {
      "cell_type": "markdown",
      "metadata": {
        "id": "mscIR8T7T8qM"
      },
      "source": [
        "And turn it into this: "
      ]
    },
    {
      "cell_type": "code",
      "metadata": {
        "id": "t6-aK9IoUOCH",
        "outputId": "c236a1aa-9dd4-4f64-9705-5b3f7f3a032d",
        "colab": {
          "base_uri": "https://localhost:8080/",
          "height": 514
        }
      },
      "source": [
        "print(\"Figure 8: Adjusted Census Block Group-Level Sampling\\n\")\n",
        "join_df_cbg_adj = join_df_cbg.copy()\n",
        "join_df_cbg_adj['cbg_adjust_factor'] = join_df_cbg_adj.census_population / join_df_cbg_adj.census_population.sum() * join_df_cbg_adj.number_devices_residing.sum() / join_df_cbg_adj.number_devices_residing\n",
        "join_df_cbg_adj['number_devices_residing_adj'] = join_df_cbg_adj.number_devices_residing * join_df_cbg_adj.cbg_adjust_factor\n",
        "join_df_cbg_adj['bias'] = compute_bias(join_df_cbg_adj, sample_var_col='number_devices_residing_adj' , pop_var_col='census_population')\n",
        "\n",
        "ax = plot_sg_vs_census(join_df_cbg_adj,'census_population','number_devices_residing_adj', alpha = 0.2, num_to_label=0)\n"
      ],
      "execution_count": null,
      "outputs": [
        {
          "output_type": "stream",
          "text": [
            "Figure 8: Adjusted Census Block Group-Level Sampling\n",
            "\n",
            "pearson r: 1.000\n",
            "Sum Absolute Bias: 0.01\n"
          ],
          "name": "stdout"
        },
        {
          "output_type": "display_data",
          "data": {
            "image/png": "[encoded data removed]",
            "text/plain": [
              "<Figure size 504x504 with 1 Axes>"
            ]
          },
          "metadata": {
            "tags": []
          }
        }
      ]
    },
    {
      "cell_type": "markdown",
      "metadata": {
        "id": "wA3V1zFnq9n_"
      },
      "source": [
        "The data is now re-weighted so that it matches the population proportions exactly. \n",
        "\n",
        "\n",
        "---\n",
        "\n"
      ]
    },
    {
      "cell_type": "markdown",
      "metadata": {
        "id": "k52vysukWxcv"
      },
      "source": [
        "In another post, we dive into the [logic and statistics behind Post-hoc Stratification Re-Weighting.](https://www.safegraph.com/blog/measuring-and-correcting-sampling-bias-for-accurate-demographic-analysis/?utm_source=content&utm_medium=referral&utm_campaign=colabnotebook&utm_content=panel_bias) \n",
        "\n",
        "We will show how to make statistical inferences about visit counts (i.e., extrapolation from the sample to the population) and how to build demographic profiles for the customers of different businesses and geographic regions, all while quantifying uncertainty to determine the statistical confidence of your insights."
      ]
    },
    {
      "cell_type": "markdown",
      "metadata": {
        "id": "jpsC7Sd18Zh8"
      },
      "source": [
        "\n",
        "\n",
        "---\n",
        "\n",
        "*Thanks for reading! If you found this useful or interesting please upvote and share with a friend.* \n",
        "\n",
        "*You are strongly encouraged to try out a sample of SafeGraph patterns data for free, no strings attached at the [SafeGraph Data Bar](https://shop.safegraph.com/?utm_source=colabnotebooks&utm_medium=referral&utm_campaign=panel_bias).*  *Use coupon code* **`SamplingBias`** *for $100 worth of free data!*\n",
        "\n",
        "---\n",
        "\n",
        "Contact: \n",
        "* Please send us your ideas, feedback, bug discoveries and suggestions: datastories@safegraph.com\n"
      ]
    }
  ]
}